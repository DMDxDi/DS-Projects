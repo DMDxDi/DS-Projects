{
 "cells": [
  {
   "cell_type": "code",
   "execution_count": null,
   "id": "b117434d",
   "metadata": {},
   "outputs": [],
   "source": [
    "# Description: This program predicts the price of Ferrari N.V. Stock with LSTM"
   ]
  },
  {
   "cell_type": "code",
   "execution_count": 31,
   "id": "5da69041",
   "metadata": {},
   "outputs": [],
   "source": [
    "# Import libraries\n",
    "#from sklearn.svm import SVR\n",
    "import sklearn \n",
    "import numpy as np\n",
    "import pandas as pd\n",
    "import matplotlib.pyplot as plt\n",
    "import tensorflow as tf\n",
    "plt.style.use('fivethirtyeight')"
   ]
  },
  {
   "cell_type": "code",
   "execution_count": 19,
   "id": "a2bb078d",
   "metadata": {},
   "outputs": [
    {
     "data": {
      "text/html": [
       "<div>\n",
       "<style scoped>\n",
       "    .dataframe tbody tr th:only-of-type {\n",
       "        vertical-align: middle;\n",
       "    }\n",
       "\n",
       "    .dataframe tbody tr th {\n",
       "        vertical-align: top;\n",
       "    }\n",
       "\n",
       "    .dataframe thead th {\n",
       "        text-align: right;\n",
       "    }\n",
       "</style>\n",
       "<table border=\"1\" class=\"dataframe\">\n",
       "  <thead>\n",
       "    <tr style=\"text-align: right;\">\n",
       "      <th></th>\n",
       "      <th>Date</th>\n",
       "      <th>Open</th>\n",
       "      <th>High</th>\n",
       "      <th>Low</th>\n",
       "      <th>Close</th>\n",
       "      <th>Adj Close</th>\n",
       "      <th>Volume</th>\n",
       "    </tr>\n",
       "  </thead>\n",
       "  <tbody>\n",
       "    <tr>\n",
       "      <th>0</th>\n",
       "      <td>2017-06-08</td>\n",
       "      <td>91.709999</td>\n",
       "      <td>91.919998</td>\n",
       "      <td>90.709999</td>\n",
       "      <td>91.849998</td>\n",
       "      <td>88.716469</td>\n",
       "      <td>489600</td>\n",
       "    </tr>\n",
       "    <tr>\n",
       "      <th>1</th>\n",
       "      <td>2017-06-09</td>\n",
       "      <td>91.639999</td>\n",
       "      <td>91.940002</td>\n",
       "      <td>89.160004</td>\n",
       "      <td>89.449997</td>\n",
       "      <td>86.398338</td>\n",
       "      <td>849200</td>\n",
       "    </tr>\n",
       "    <tr>\n",
       "      <th>2</th>\n",
       "      <td>2017-06-12</td>\n",
       "      <td>89.019997</td>\n",
       "      <td>89.089996</td>\n",
       "      <td>87.430000</td>\n",
       "      <td>87.750000</td>\n",
       "      <td>84.756348</td>\n",
       "      <td>1021900</td>\n",
       "    </tr>\n",
       "    <tr>\n",
       "      <th>3</th>\n",
       "      <td>2017-06-13</td>\n",
       "      <td>88.839996</td>\n",
       "      <td>88.989998</td>\n",
       "      <td>87.910004</td>\n",
       "      <td>88.190002</td>\n",
       "      <td>85.181335</td>\n",
       "      <td>586200</td>\n",
       "    </tr>\n",
       "    <tr>\n",
       "      <th>4</th>\n",
       "      <td>2017-06-14</td>\n",
       "      <td>88.720001</td>\n",
       "      <td>88.830002</td>\n",
       "      <td>87.889999</td>\n",
       "      <td>88.419998</td>\n",
       "      <td>85.403488</td>\n",
       "      <td>397400</td>\n",
       "    </tr>\n",
       "    <tr>\n",
       "      <th>...</th>\n",
       "      <td>...</td>\n",
       "      <td>...</td>\n",
       "      <td>...</td>\n",
       "      <td>...</td>\n",
       "      <td>...</td>\n",
       "      <td>...</td>\n",
       "      <td>...</td>\n",
       "    </tr>\n",
       "    <tr>\n",
       "      <th>1254</th>\n",
       "      <td>2022-06-01</td>\n",
       "      <td>192.009995</td>\n",
       "      <td>192.899994</td>\n",
       "      <td>187.759995</td>\n",
       "      <td>189.169998</td>\n",
       "      <td>189.169998</td>\n",
       "      <td>558400</td>\n",
       "    </tr>\n",
       "    <tr>\n",
       "      <th>1255</th>\n",
       "      <td>2022-06-02</td>\n",
       "      <td>190.899994</td>\n",
       "      <td>198.000000</td>\n",
       "      <td>190.776001</td>\n",
       "      <td>197.880005</td>\n",
       "      <td>197.880005</td>\n",
       "      <td>399400</td>\n",
       "    </tr>\n",
       "    <tr>\n",
       "      <th>1256</th>\n",
       "      <td>2022-06-03</td>\n",
       "      <td>192.610001</td>\n",
       "      <td>193.949997</td>\n",
       "      <td>189.434998</td>\n",
       "      <td>189.710007</td>\n",
       "      <td>189.710007</td>\n",
       "      <td>535700</td>\n",
       "    </tr>\n",
       "    <tr>\n",
       "      <th>1257</th>\n",
       "      <td>2022-06-06</td>\n",
       "      <td>192.600006</td>\n",
       "      <td>194.250000</td>\n",
       "      <td>191.460007</td>\n",
       "      <td>193.270004</td>\n",
       "      <td>193.270004</td>\n",
       "      <td>279600</td>\n",
       "    </tr>\n",
       "    <tr>\n",
       "      <th>1258</th>\n",
       "      <td>2022-06-07</td>\n",
       "      <td>189.399994</td>\n",
       "      <td>191.410004</td>\n",
       "      <td>187.919998</td>\n",
       "      <td>191.160004</td>\n",
       "      <td>191.160004</td>\n",
       "      <td>337000</td>\n",
       "    </tr>\n",
       "  </tbody>\n",
       "</table>\n",
       "<p>1259 rows × 7 columns</p>\n",
       "</div>"
      ],
      "text/plain": [
       "            Date        Open        High         Low       Close   Adj Close  \\\n",
       "0     2017-06-08   91.709999   91.919998   90.709999   91.849998   88.716469   \n",
       "1     2017-06-09   91.639999   91.940002   89.160004   89.449997   86.398338   \n",
       "2     2017-06-12   89.019997   89.089996   87.430000   87.750000   84.756348   \n",
       "3     2017-06-13   88.839996   88.989998   87.910004   88.190002   85.181335   \n",
       "4     2017-06-14   88.720001   88.830002   87.889999   88.419998   85.403488   \n",
       "...          ...         ...         ...         ...         ...         ...   \n",
       "1254  2022-06-01  192.009995  192.899994  187.759995  189.169998  189.169998   \n",
       "1255  2022-06-02  190.899994  198.000000  190.776001  197.880005  197.880005   \n",
       "1256  2022-06-03  192.610001  193.949997  189.434998  189.710007  189.710007   \n",
       "1257  2022-06-06  192.600006  194.250000  191.460007  193.270004  193.270004   \n",
       "1258  2022-06-07  189.399994  191.410004  187.919998  191.160004  191.160004   \n",
       "\n",
       "       Volume  \n",
       "0      489600  \n",
       "1      849200  \n",
       "2     1021900  \n",
       "3      586200  \n",
       "4      397400  \n",
       "...       ...  \n",
       "1254   558400  \n",
       "1255   399400  \n",
       "1256   535700  \n",
       "1257   279600  \n",
       "1258   337000  \n",
       "\n",
       "[1259 rows x 7 columns]"
      ]
     },
     "execution_count": 19,
     "metadata": {},
     "output_type": "execute_result"
    }
   ],
   "source": [
    "# Import data\n",
    "df = pd.read_csv('FerrariDataSet.csv')\n",
    "# Show data\n",
    "df\n",
    "#df.head()\n",
    "#df.tail"
   ]
  },
  {
   "cell_type": "code",
   "execution_count": 20,
   "id": "7299b86c",
   "metadata": {},
   "outputs": [
    {
     "data": {
      "text/plain": [
       "[<matplotlib.lines.Line2D at 0x21ebe498d90>]"
      ]
     },
     "execution_count": 20,
     "metadata": {},
     "output_type": "execute_result"
    },
    {
     "data": {
      "image/png": "[encoded data removed]",
      "text/plain": [
       "<Figure size 432x288 with 1 Axes>"
      ]
     },
     "metadata": {},
     "output_type": "display_data"
    }
   ],
   "source": [
    "df1 = df.reset_index()['Adj Close']\n",
    "# df1\n",
    "plt.plot(df1)"
   ]
  },
  {
   "cell_type": "code",
   "execution_count": 23,
   "id": "5f5c0cdc",
   "metadata": {},
   "outputs": [
    {
     "data": {
      "text/plain": [
       "(1259, 1)"
      ]
     },
     "execution_count": 23,
     "metadata": {},
     "output_type": "execute_result"
    }
   ],
   "source": [
    "# LSTM is sensitive to the scale of the data => apply MinMax scaler\n",
    "from sklearn.preprocessing import MinMaxScaler\n",
    "scaler = MinMaxScaler(feature_range=(0,1))\n",
    "df1 = scaler.fit_transform(np.array(df1).reshape(-1,1))\n",
    "df1.shape\n",
    "\n"
   ]
  },
  {
   "cell_type": "code",
   "execution_count": 27,
   "id": "b81af4ab",
   "metadata": {},
   "outputs": [
    {
     "data": {
      "text/plain": [
       "(1007, 252)"
      ]
     },
     "execution_count": 27,
     "metadata": {},
     "output_type": "execute_result"
    }
   ],
   "source": [
    "# train & test dataset split\n",
    "training_size = int (len(df1)*0.8)\n",
    "test_size = len(df1) - training_size\n",
    "train_data, test_data = df1[0:training_size, :], df1[training_size:len(df1),:1]\n",
    "training_size, test_size"
   ]
  },
  {
   "cell_type": "code",
   "execution_count": 40,
   "id": "d84906d5",
   "metadata": {},
   "outputs": [],
   "source": [
    "# convert an array of values into a dataset matrix\n",
    "def create_dataset(dataset, time_step=1):\n",
    "\tdataX, dataY = [], []\n",
    "\tfor i in range(len(dataset)-time_step-1):\n",
    "\t\ta = dataset[i:(i+time_step), 0]   ###i=0, 0,1,2,3-----99   100 \n",
    "\t\tdataX.append(a)\n",
    "\t\tdataY.append(dataset[i + time_step, 0])\n",
    "\treturn numpy.array(dataX), numpy.array(dataY)"
   ]
  },
  {
   "cell_type": "code",
   "execution_count": 41,
   "id": "dd62cdf2",
   "metadata": {},
   "outputs": [],
   "source": [
    "# reshape into X=t,t+1,t+2,t+3 and Y=t+4\n",
    "time_step = 100\n",
    "X_train, y_train = create_dataset(train_data, time_step)\n",
    "X_test, ytest = create_dataset(test_data, time_step)"
   ]
  },
  {
   "cell_type": "code",
   "execution_count": 42,
   "id": "2e0811f4",
   "metadata": {},
   "outputs": [
    {
     "name": "stdout",
     "output_type": "stream",
     "text": [
      "(906, 100)\n",
      "(906,)\n"
     ]
    },
    {
     "data": {
      "text/plain": [
       "(None, None)"
      ]
     },
     "execution_count": 42,
     "metadata": {},
     "output_type": "execute_result"
    }
   ],
   "source": [
    "print(X_train.shape), print(y_train.shape)"
   ]
  },
  {
   "cell_type": "code",
   "execution_count": 43,
   "id": "3c3d44ac",
   "metadata": {},
   "outputs": [
    {
     "name": "stdout",
     "output_type": "stream",
     "text": [
      "(151, 100)\n",
      "(151,)\n"
     ]
    },
    {
     "data": {
      "text/plain": [
       "(None, None)"
      ]
     },
     "execution_count": 43,
     "metadata": {},
     "output_type": "execute_result"
    }
   ],
   "source": [
    "print(X_test.shape), print(ytest.shape)"
   ]
  },
  {
   "cell_type": "code",
   "execution_count": 44,
   "id": "744bcbe0",
   "metadata": {},
   "outputs": [],
   "source": [
    "# reshape input to be [samples, time steps, features] which is required for LSTM\n",
    "X_train =X_train.reshape(X_train.shape[0],X_train.shape[1] , 1)\n",
    "X_test = X_test.reshape(X_test.shape[0],X_test.shape[1] , 1)"
   ]
  },
  {
   "cell_type": "code",
   "execution_count": 50,
   "id": "187c65df",
   "metadata": {},
   "outputs": [
    {
     "ename": "ModuleNotFoundError",
     "evalue": "No module named 'tensorflow'",
     "output_type": "error",
     "traceback": [
      "\u001b[1;31m---------------------------------------------------------------------------\u001b[0m",
      "\u001b[1;31mModuleNotFoundError\u001b[0m                       Traceback (most recent call last)",
      "Input \u001b[1;32mIn [50]\u001b[0m, in \u001b[0;36m<cell line: 2>\u001b[1;34m()\u001b[0m\n\u001b[0;32m      1\u001b[0m \u001b[38;5;66;03m### Create the Stacked LSTM model\u001b[39;00m\n\u001b[1;32m----> 2\u001b[0m \u001b[38;5;28;01mfrom\u001b[39;00m \u001b[38;5;21;01mtensorflow\u001b[39;00m\u001b[38;5;21;01m.\u001b[39;00m\u001b[38;5;21;01mkeras\u001b[39;00m\u001b[38;5;21;01m.\u001b[39;00m\u001b[38;5;21;01mmodels\u001b[39;00m \u001b[38;5;28;01mimport\u001b[39;00m Sequential\n",
      "\u001b[1;31mModuleNotFoundError\u001b[0m: No module named 'tensorflow'"
     ]
    }
   ],
   "source": [
    "### Create the Stacked LSTM model\n",
    "from tensorflow.keras.models import Sequential\n",
    "# from tensorflow.keras.layers import Dense\n",
    "# from tensorflow.keras.layers import LSTM"
   ]
  },
  {
   "cell_type": "code",
   "execution_count": 51,
   "id": "419dcb1f",
   "metadata": {},
   "outputs": [
    {
     "name": "stdout",
     "output_type": "stream",
     "text": [
      "Note: you may need to restart the kernel to use updated packages.\n"
     ]
    },
    {
     "name": "stderr",
     "output_type": "stream",
     "text": [
      "ERROR: Invalid requirement: '–user'\n"
     ]
    }
   ],
   "source": [
    " pip install tensorflow –user"
   ]
  },
  {
   "cell_type": "code",
   "execution_count": null,
   "id": "74b6cfdd",
   "metadata": {},
   "outputs": [],
   "source": []
  }
 ],
 "metadata": {
  "kernelspec": {
   "display_name": "Python 3 (ipykernel)",
   "language": "python",
   "name": "python3"
  },
  "language_info": {
   "codemirror_mode": {
    "name": "ipython",
    "version": 3
   },
   "file_extension": ".py",
   "mimetype": "text/x-python",
   "name": "python",
   "nbconvert_exporter": "python",
   "pygments_lexer": "ipython3",
   "version": "3.9.12"
  }
 },
 "nbformat": 4,
 "nbformat_minor": 5
}
