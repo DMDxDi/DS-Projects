{
 "cells": [
  {
   "cell_type": "markdown",
   "id": "63b7f120",
   "metadata": {
    "papermill": {
     "duration": 0.008329,
     "end_time": "2023-06-11T01:33:33.836648",
     "exception": false,
     "start_time": "2023-06-11T01:33:33.828319",
     "status": "completed"
    },
    "tags": []
   },
   "source": [
    "<div style=\"padding:20px; \n",
    "            color:#FFEAEA;\n",
    "            margin:10px;\n",
    "            font-size:220%;\n",
    "            text-align:center;\n",
    "            display:fill;\n",
    "            border-radius:20px;\n",
    "            border-width: 5px;\n",
    "            border-style: solid;\n",
    "            border-color:#060047;\n",
    "            background-color:#060047;\n",
    "            font-family:newtimeroman;\n",
    "            overflow:hidden;\n",
    "            font-weight:500\">DIAMOND CUT PREDICTION</div>\n",
    "           "
   ]
  },
  {
   "cell_type": "markdown",
   "id": "7a3bb685",
   "metadata": {
    "papermill": {
     "duration": 0.006743,
     "end_time": "2023-06-11T01:33:33.850248",
     "exception": false,
     "start_time": "2023-06-11T01:33:33.843505",
     "status": "completed"
    },
    "tags": []
   },
   "source": [
    "<center>\n",
    "<img src=\"https://github.com/DorobantuDiana/DS_Projects/blob/main/objects/diamond.gif?raw=true\" width=450>\n",
    "</center>"
   ]
  },
  {
   "cell_type": "markdown",
   "id": "70e19707",
   "metadata": {
    "papermill": {
     "duration": 0.006559,
     "end_time": "2023-06-11T01:33:33.863468",
     "exception": false,
     "start_time": "2023-06-11T01:33:33.856909",
     "status": "completed"
    },
    "tags": []
   },
   "source": [
    "---\n",
    "\n",
    "<br>\n",
    "<div class=\"list-group\" id=\"list-tab\" role=\"tablist\">\n",
    "<p style=\"background-color:#060047;font-family:newtimeroman;color:#FFEAEA;font-size:160%;text-align:center;border-radius:10px 10px;\">TABLE OF CONTENTS</p>   \n",
    "    \n",
    "<br>\n",
    "    \n",
    "1. [Dataset](#1)\n",
    "    \n",
    "2. [Libraries](#2)\n",
    "   \n",
    "3. [Data Loading](#3)\n",
    "    \n",
    "4. [Data Cleaning](#4)\n",
    "    \n",
    "5. [Descriptive Statistics](#5) \n",
    "    \n",
    "6. [Data Splitting](#6)\n",
    "    \n",
    "7. [Random Forest Classification Model](#7)\n",
    "    \n",
    "8. [Conclusion](#8)\n",
    "    \n",
    "<br>  \n",
    "    \n",
    "---"
   ]
  },
  {
   "cell_type": "markdown",
   "id": "138c414a",
   "metadata": {
    "papermill": {
     "duration": 0.006596,
     "end_time": "2023-06-11T01:33:33.876723",
     "exception": false,
     "start_time": "2023-06-11T01:33:33.870127",
     "status": "completed"
    },
    "tags": []
   },
   "source": [
    "<a id=\"1\"></a>\n",
    "<div class=\"list-group\" id=\"list-tab\" role=\"tablist\">\n",
    "<p style=\"background-color:#060047;font-family:newtimeroman;color:#FFEAEA;font-size:160%;text-align:center;border-radius:10px 10px;\">Dataset</p>   "
   ]
  },
  {
   "cell_type": "markdown",
   "id": "c46d9fd4",
   "metadata": {
    "papermill": {
     "duration": 0.006583,
     "end_time": "2023-06-11T01:33:33.890094",
     "exception": false,
     "start_time": "2023-06-11T01:33:33.883511",
     "status": "completed"
    },
    "tags": []
   },
   "source": [
    "* <b>carat</b>: refers to the <u>weight</u> of the diamond, indicating its size\n",
    "\n",
    "* <b>cut</b>: refers to the <u>quality</u> of the diamond's cut and craftsmanship (it describes how well the diamond has been shaped and faceted, influencing its brilliance and sparkle)\n",
    "\n",
    "* <b>color</b>: describes the presence of any noticeable tint in a white diamond \n",
    "\n",
    "* <b>clarity</b>: indicates the diamond's <u>purity</u> by detecting the presence of any internal or external imperfections in the diamond\n",
    "\n",
    "* <b>depth</b>: refers to the <u>height</u> of the diamond from the table (top) to the culet (bottom)\n",
    "\n",
    "* <b>table</b>: represents the flat top facet of the diamond\n",
    "\n",
    "* <b>price</b>: indicates the monetary value of the diamond\n",
    "\n",
    "* <b>x</b>: represents the <u>length</u> of the diamond in millimeters\n",
    "\n",
    "* <b>y</b>: represents the <u>width</u> of the diamond in millimeters\n",
    "\n",
    "* <b>z</b>: represents the <u>depth</u> of the diamond in millimeters\n",
    "\n",
    "<br>\n",
    "\n",
    "More information about the dataset you can find [here](https://www.kaggle.com/datasets/ulrikthygepedersen/diamonds?datasetId=2859814&language=Python)."
   ]
  },
  {
   "cell_type": "markdown",
   "id": "322c8ba5",
   "metadata": {
    "papermill": {
     "duration": 0.006705,
     "end_time": "2023-06-11T01:33:33.904247",
     "exception": false,
     "start_time": "2023-06-11T01:33:33.897542",
     "status": "completed"
    },
    "tags": []
   },
   "source": [
    "<a id=\"2\"></a>\n",
    "<div class=\"list-group\" id=\"list-tab\" role=\"tablist\">\n",
    "<p style=\"background-color:#060047;font-family:newtimeroman;color:#FFEAEA;font-size:160%;text-align:center;border-radius:10px 10px;\">Libraries</p> "
   ]
  },
  {
   "cell_type": "code",
   "execution_count": 1,
   "id": "969373c7",
   "metadata": {
    "_kg_hide-output": true,
    "execution": {
     "iopub.execute_input": "2023-06-11T01:33:33.924992Z",
     "iopub.status.busy": "2023-06-11T01:33:33.922275Z",
     "iopub.status.idle": "2023-06-11T01:33:49.356715Z",
     "shell.execute_reply": "2023-06-11T01:33:49.354325Z"
    },
    "papermill": {
     "duration": 15.447675,
     "end_time": "2023-06-11T01:33:49.360445",
     "exception": false,
     "start_time": "2023-06-11T01:33:33.912770",
     "status": "completed"
    },
    "tags": []
   },
   "outputs": [
    {
     "name": "stderr",
     "output_type": "stream",
     "text": [
      "Installing package into ‘/usr/local/lib/R/site-library’\n",
      "(as ‘lib’ is unspecified)\n",
      "\n",
      "Warning message:\n",
      "“package ‘ggplot’ is not available for this version of R\n",
      "\n",
      "A version of this package for your version of R might be available elsewhere,\n",
      "see the ideas at\n",
      "https://cran.r-project.org/doc/manuals/r-patched/R-admin.html#Installing-packages”\n",
      "Warning message in p_install(package, character.only = TRUE, ...):\n",
      "“”\n",
      "Warning message in library(package, lib.loc = lib.loc, character.only = TRUE, logical.return = TRUE, :\n",
      "“there is no package called ‘ggplot’”\n",
      "Warning message in pacman::p_load(pacman, stats, psych, dplyr, ggplot, gridExtra, :\n",
      "“Failed to install/load:\n",
      "ggplot”\n"
     ]
    }
   ],
   "source": [
    "pacman :: p_load(pacman,stats, psych, dplyr,ggplot, gridExtra, randomForest) \n",
    "\n",
    "options(warn=-1) # warnings will be suppressed and will not be displayed in the console or any output"
   ]
  },
  {
   "cell_type": "markdown",
   "id": "1986e272",
   "metadata": {
    "papermill": {
     "duration": 0.007839,
     "end_time": "2023-06-11T01:33:49.376052",
     "exception": false,
     "start_time": "2023-06-11T01:33:49.368213",
     "status": "completed"
    },
    "tags": []
   },
   "source": [
    "<a id=\"3\"></a>\n",
    "<div class=\"list-group\" id=\"list-tab\" role=\"tablist\">\n",
    "<p style=\"background-color:#060047;font-family:newtimeroman;color:#FFEAEA;font-size:160%;text-align:center;border-radius:10px 10px;\">Data Loading</p>  "
   ]
  },
  {
   "cell_type": "code",
   "execution_count": 2,
   "id": "9c0f2f13",
   "metadata": {
    "execution": {
     "iopub.execute_input": "2023-06-11T01:33:49.431715Z",
     "iopub.status.busy": "2023-06-11T01:33:49.393755Z",
     "iopub.status.idle": "2023-06-11T01:33:49.730406Z",
     "shell.execute_reply": "2023-06-11T01:33:49.728163Z"
    },
    "papermill": {
     "duration": 0.349957,
     "end_time": "2023-06-11T01:33:49.733505",
     "exception": false,
     "start_time": "2023-06-11T01:33:49.383548",
     "status": "completed"
    },
    "tags": []
   },
   "outputs": [
    {
     "name": "stdout",
     "output_type": "stream",
     "text": [
      "Number of instances: 53940"
     ]
    },
    {
     "data": {
      "text/html": [
       "<table class=\"dataframe\">\n",
       "<caption>A data.frame: 10 × 10</caption>\n",
       "<thead>\n",
       "\t<tr><th></th><th scope=col>carat</th><th scope=col>cut</th><th scope=col>color</th><th scope=col>clarity</th><th scope=col>depth</th><th scope=col>table</th><th scope=col>price</th><th scope=col>x</th><th scope=col>y</th><th scope=col>z</th></tr>\n",
       "\t<tr><th></th><th scope=col>&lt;dbl&gt;</th><th scope=col>&lt;chr&gt;</th><th scope=col>&lt;chr&gt;</th><th scope=col>&lt;chr&gt;</th><th scope=col>&lt;dbl&gt;</th><th scope=col>&lt;dbl&gt;</th><th scope=col>&lt;dbl&gt;</th><th scope=col>&lt;dbl&gt;</th><th scope=col>&lt;dbl&gt;</th><th scope=col>&lt;dbl&gt;</th></tr>\n",
       "</thead>\n",
       "<tbody>\n",
       "\t<tr><th scope=row>1</th><td>0.23</td><td>bIdeal    </td><td>bE</td><td>bSI2 </td><td>61.5</td><td>55</td><td>326</td><td>3.95</td><td>3.98</td><td>2.43</td></tr>\n",
       "\t<tr><th scope=row>2</th><td>0.21</td><td>bPremium  </td><td>bE</td><td>bSI1 </td><td>59.8</td><td>61</td><td>326</td><td>3.89</td><td>3.84</td><td>2.31</td></tr>\n",
       "\t<tr><th scope=row>3</th><td>0.23</td><td>bGood     </td><td>bE</td><td>bVS1 </td><td>56.9</td><td>65</td><td>327</td><td>4.05</td><td>4.07</td><td>2.31</td></tr>\n",
       "\t<tr><th scope=row>4</th><td>0.29</td><td>bPremium  </td><td>bI</td><td>bVS2 </td><td>62.4</td><td>58</td><td>334</td><td>4.20</td><td>4.23</td><td>2.63</td></tr>\n",
       "\t<tr><th scope=row>5</th><td>0.31</td><td>bGood     </td><td>bJ</td><td>bSI2 </td><td>63.3</td><td>58</td><td>335</td><td>4.34</td><td>4.35</td><td>2.75</td></tr>\n",
       "\t<tr><th scope=row>6</th><td>0.24</td><td>bVery Good</td><td>bJ</td><td>bVVS2</td><td>62.8</td><td>57</td><td>336</td><td>3.94</td><td>3.96</td><td>2.48</td></tr>\n",
       "\t<tr><th scope=row>7</th><td>0.24</td><td>bVery Good</td><td>bI</td><td>bVVS1</td><td>62.3</td><td>57</td><td>336</td><td>3.95</td><td>3.98</td><td>2.47</td></tr>\n",
       "\t<tr><th scope=row>8</th><td>0.26</td><td>bVery Good</td><td>bH</td><td>bSI1 </td><td>61.9</td><td>55</td><td>337</td><td>4.07</td><td>4.11</td><td>2.53</td></tr>\n",
       "\t<tr><th scope=row>9</th><td>0.22</td><td>bFair     </td><td>bE</td><td>bVS2 </td><td>65.1</td><td>61</td><td>337</td><td>3.87</td><td>3.78</td><td>2.49</td></tr>\n",
       "\t<tr><th scope=row>10</th><td>0.23</td><td>bVery Good</td><td>bH</td><td>bVS1 </td><td>59.4</td><td>61</td><td>338</td><td>4.00</td><td>4.05</td><td>2.39</td></tr>\n",
       "</tbody>\n",
       "</table>\n"
      ],
      "text/latex": [
       "A data.frame: 10 × 10\n",
       "\\begin{tabular}{r|llllllllll}\n",
       "  & carat & cut & color & clarity & depth & table & price & x & y & z\\\\\n",
       "  & <dbl> & <chr> & <chr> & <chr> & <dbl> & <dbl> & <dbl> & <dbl> & <dbl> & <dbl>\\\\\n",
       "\\hline\n",
       "\t1 & 0.23 & bIdeal     & bE & bSI2  & 61.5 & 55 & 326 & 3.95 & 3.98 & 2.43\\\\\n",
       "\t2 & 0.21 & bPremium   & bE & bSI1  & 59.8 & 61 & 326 & 3.89 & 3.84 & 2.31\\\\\n",
       "\t3 & 0.23 & bGood      & bE & bVS1  & 56.9 & 65 & 327 & 4.05 & 4.07 & 2.31\\\\\n",
       "\t4 & 0.29 & bPremium   & bI & bVS2  & 62.4 & 58 & 334 & 4.20 & 4.23 & 2.63\\\\\n",
       "\t5 & 0.31 & bGood      & bJ & bSI2  & 63.3 & 58 & 335 & 4.34 & 4.35 & 2.75\\\\\n",
       "\t6 & 0.24 & bVery Good & bJ & bVVS2 & 62.8 & 57 & 336 & 3.94 & 3.96 & 2.48\\\\\n",
       "\t7 & 0.24 & bVery Good & bI & bVVS1 & 62.3 & 57 & 336 & 3.95 & 3.98 & 2.47\\\\\n",
       "\t8 & 0.26 & bVery Good & bH & bSI1  & 61.9 & 55 & 337 & 4.07 & 4.11 & 2.53\\\\\n",
       "\t9 & 0.22 & bFair      & bE & bVS2  & 65.1 & 61 & 337 & 3.87 & 3.78 & 2.49\\\\\n",
       "\t10 & 0.23 & bVery Good & bH & bVS1  & 59.4 & 61 & 338 & 4.00 & 4.05 & 2.39\\\\\n",
       "\\end{tabular}\n"
      ],
      "text/markdown": [
       "\n",
       "A data.frame: 10 × 10\n",
       "\n",
       "| <!--/--> | carat &lt;dbl&gt; | cut &lt;chr&gt; | color &lt;chr&gt; | clarity &lt;chr&gt; | depth &lt;dbl&gt; | table &lt;dbl&gt; | price &lt;dbl&gt; | x &lt;dbl&gt; | y &lt;dbl&gt; | z &lt;dbl&gt; |\n",
       "|---|---|---|---|---|---|---|---|---|---|---|\n",
       "| 1 | 0.23 | bIdeal     | bE | bSI2  | 61.5 | 55 | 326 | 3.95 | 3.98 | 2.43 |\n",
       "| 2 | 0.21 | bPremium   | bE | bSI1  | 59.8 | 61 | 326 | 3.89 | 3.84 | 2.31 |\n",
       "| 3 | 0.23 | bGood      | bE | bVS1  | 56.9 | 65 | 327 | 4.05 | 4.07 | 2.31 |\n",
       "| 4 | 0.29 | bPremium   | bI | bVS2  | 62.4 | 58 | 334 | 4.20 | 4.23 | 2.63 |\n",
       "| 5 | 0.31 | bGood      | bJ | bSI2  | 63.3 | 58 | 335 | 4.34 | 4.35 | 2.75 |\n",
       "| 6 | 0.24 | bVery Good | bJ | bVVS2 | 62.8 | 57 | 336 | 3.94 | 3.96 | 2.48 |\n",
       "| 7 | 0.24 | bVery Good | bI | bVVS1 | 62.3 | 57 | 336 | 3.95 | 3.98 | 2.47 |\n",
       "| 8 | 0.26 | bVery Good | bH | bSI1  | 61.9 | 55 | 337 | 4.07 | 4.11 | 2.53 |\n",
       "| 9 | 0.22 | bFair      | bE | bVS2  | 65.1 | 61 | 337 | 3.87 | 3.78 | 2.49 |\n",
       "| 10 | 0.23 | bVery Good | bH | bVS1  | 59.4 | 61 | 338 | 4.00 | 4.05 | 2.39 |\n",
       "\n"
      ],
      "text/plain": [
       "   carat cut        color clarity depth table price x    y    z   \n",
       "1  0.23  bIdeal     bE    bSI2    61.5  55    326   3.95 3.98 2.43\n",
       "2  0.21  bPremium   bE    bSI1    59.8  61    326   3.89 3.84 2.31\n",
       "3  0.23  bGood      bE    bVS1    56.9  65    327   4.05 4.07 2.31\n",
       "4  0.29  bPremium   bI    bVS2    62.4  58    334   4.20 4.23 2.63\n",
       "5  0.31  bGood      bJ    bSI2    63.3  58    335   4.34 4.35 2.75\n",
       "6  0.24  bVery Good bJ    bVVS2   62.8  57    336   3.94 3.96 2.48\n",
       "7  0.24  bVery Good bI    bVVS1   62.3  57    336   3.95 3.98 2.47\n",
       "8  0.26  bVery Good bH    bSI1    61.9  55    337   4.07 4.11 2.53\n",
       "9  0.22  bFair      bE    bVS2    65.1  61    337   3.87 3.78 2.49\n",
       "10 0.23  bVery Good bH    bVS1    59.4  61    338   4.00 4.05 2.39"
      ]
     },
     "metadata": {},
     "output_type": "display_data"
    }
   ],
   "source": [
    "# Read data\n",
    "df <- read.table(\"/kaggle/input/diamonds/diamonds.csv\", sep = \",\", header = T)\n",
    "\n",
    "# Nr. of instances\n",
    "cat(\"Number of instances:\", nrow(df))\n",
    "\n",
    "# View data\n",
    "head(df, 10)"
   ]
  },
  {
   "cell_type": "markdown",
   "id": "eb098d1f",
   "metadata": {
    "papermill": {
     "duration": 0.008159,
     "end_time": "2023-06-11T01:33:49.749791",
     "exception": false,
     "start_time": "2023-06-11T01:33:49.741632",
     "status": "completed"
    },
    "tags": []
   },
   "source": [
    "<a id=\"4\"></a>\n",
    "<div class=\"list-group\" id=\"list-tab\" role=\"tablist\">\n",
    "<p style=\"background-color:#060047;font-family:newtimeroman;color:#FFEAEA;font-size:160%;text-align:center;border-radius:10px 10px;\">Data Cleaning</p>  "
   ]
  },
  {
   "cell_type": "code",
   "execution_count": 3,
   "id": "11a6f4d5",
   "metadata": {
    "execution": {
     "iopub.execute_input": "2023-06-11T01:33:49.770089Z",
     "iopub.status.busy": "2023-06-11T01:33:49.768148Z",
     "iopub.status.idle": "2023-06-11T01:33:55.742558Z",
     "shell.execute_reply": "2023-06-11T01:33:55.740350Z"
    },
    "papermill": {
     "duration": 5.987968,
     "end_time": "2023-06-11T01:33:55.745587",
     "exception": false,
     "start_time": "2023-06-11T01:33:49.757619",
     "status": "completed"
    },
    "tags": []
   },
   "outputs": [
    {
     "data": {
      "text/html": [
       "<table class=\"dataframe\">\n",
       "<caption>A data.frame: 10 × 6</caption>\n",
       "<thead>\n",
       "\t<tr><th scope=col>column</th><th scope=col>dtype</th><th scope=col>instances</th><th scope=col>unique</th><th scope=col>sum_null</th><th scope=col>duplicates</th></tr>\n",
       "\t<tr><th scope=col>&lt;chr&gt;</th><th scope=col>&lt;chr&gt;</th><th scope=col>&lt;chr&gt;</th><th scope=col>&lt;chr&gt;</th><th scope=col>&lt;chr&gt;</th><th scope=col>&lt;chr&gt;</th></tr>\n",
       "</thead>\n",
       "<tbody>\n",
       "\t<tr><td>carat  </td><td>numeric  </td><td>53940</td><td>273  </td><td>0</td><td>146</td></tr>\n",
       "\t<tr><td>cut    </td><td>character</td><td>53940</td><td>5    </td><td>0</td><td>146</td></tr>\n",
       "\t<tr><td>color  </td><td>character</td><td>53940</td><td>7    </td><td>0</td><td>146</td></tr>\n",
       "\t<tr><td>clarity</td><td>character</td><td>53940</td><td>8    </td><td>0</td><td>146</td></tr>\n",
       "\t<tr><td>depth  </td><td>numeric  </td><td>53940</td><td>184  </td><td>0</td><td>146</td></tr>\n",
       "\t<tr><td>table  </td><td>numeric  </td><td>53940</td><td>127  </td><td>0</td><td>146</td></tr>\n",
       "\t<tr><td>price  </td><td>numeric  </td><td>53940</td><td>11602</td><td>0</td><td>146</td></tr>\n",
       "\t<tr><td>x      </td><td>numeric  </td><td>53940</td><td>554  </td><td>0</td><td>146</td></tr>\n",
       "\t<tr><td>y      </td><td>numeric  </td><td>53940</td><td>552  </td><td>0</td><td>146</td></tr>\n",
       "\t<tr><td>z      </td><td>numeric  </td><td>53940</td><td>375  </td><td>0</td><td>146</td></tr>\n",
       "</tbody>\n",
       "</table>\n"
      ],
      "text/latex": [
       "A data.frame: 10 × 6\n",
       "\\begin{tabular}{llllll}\n",
       " column & dtype & instances & unique & sum\\_null & duplicates\\\\\n",
       " <chr> & <chr> & <chr> & <chr> & <chr> & <chr>\\\\\n",
       "\\hline\n",
       "\t carat   & numeric   & 53940 & 273   & 0 & 146\\\\\n",
       "\t cut     & character & 53940 & 5     & 0 & 146\\\\\n",
       "\t color   & character & 53940 & 7     & 0 & 146\\\\\n",
       "\t clarity & character & 53940 & 8     & 0 & 146\\\\\n",
       "\t depth   & numeric   & 53940 & 184   & 0 & 146\\\\\n",
       "\t table   & numeric   & 53940 & 127   & 0 & 146\\\\\n",
       "\t price   & numeric   & 53940 & 11602 & 0 & 146\\\\\n",
       "\t x       & numeric   & 53940 & 554   & 0 & 146\\\\\n",
       "\t y       & numeric   & 53940 & 552   & 0 & 146\\\\\n",
       "\t z       & numeric   & 53940 & 375   & 0 & 146\\\\\n",
       "\\end{tabular}\n"
      ],
      "text/markdown": [
       "\n",
       "A data.frame: 10 × 6\n",
       "\n",
       "| column &lt;chr&gt; | dtype &lt;chr&gt; | instances &lt;chr&gt; | unique &lt;chr&gt; | sum_null &lt;chr&gt; | duplicates &lt;chr&gt; |\n",
       "|---|---|---|---|---|---|\n",
       "| carat   | numeric   | 53940 | 273   | 0 | 146 |\n",
       "| cut     | character | 53940 | 5     | 0 | 146 |\n",
       "| color   | character | 53940 | 7     | 0 | 146 |\n",
       "| clarity | character | 53940 | 8     | 0 | 146 |\n",
       "| depth   | numeric   | 53940 | 184   | 0 | 146 |\n",
       "| table   | numeric   | 53940 | 127   | 0 | 146 |\n",
       "| price   | numeric   | 53940 | 11602 | 0 | 146 |\n",
       "| x       | numeric   | 53940 | 554   | 0 | 146 |\n",
       "| y       | numeric   | 53940 | 552   | 0 | 146 |\n",
       "| z       | numeric   | 53940 | 375   | 0 | 146 |\n",
       "\n"
      ],
      "text/plain": [
       "   column  dtype     instances unique sum_null duplicates\n",
       "1  carat   numeric   53940     273    0        146       \n",
       "2  cut     character 53940     5      0        146       \n",
       "3  color   character 53940     7      0        146       \n",
       "4  clarity character 53940     8      0        146       \n",
       "5  depth   numeric   53940     184    0        146       \n",
       "6  table   numeric   53940     127    0        146       \n",
       "7  price   numeric   53940     11602  0        146       \n",
       "8  x       numeric   53940     554    0        146       \n",
       "9  y       numeric   53940     552    0        146       \n",
       "10 z       numeric   53940     375    0        146       "
      ]
     },
     "metadata": {},
     "output_type": "display_data"
    }
   ],
   "source": [
    "# Inspect data\n",
    "check <- function(data) {\n",
    "  l <- list()\n",
    "  columns <- names(data)\n",
    "  for (col in columns) {\n",
    "    instances <- sum(!is.na(data[[col]]))\n",
    "    dtypes <- class(data[[col]])\n",
    "    unique <- length(unique(data[[col]]))\n",
    "    sum_null <- sum(is.na(data[[col]]))\n",
    "    duplicates <- sum(duplicated(data))\n",
    "    l[[length(l) + 1]] <- c(col, dtypes, instances, unique, sum_null, duplicates)\n",
    "  }\n",
    "  data_check <- as.data.frame(do.call(rbind, l))\n",
    "  names(data_check) <- c(\"column\", \"dtype\", \"instances\", \"unique\", \"sum_null\", \"duplicates\")\n",
    "  return(data_check)\n",
    "}\n",
    "\n",
    "check(df)"
   ]
  },
  {
   "cell_type": "markdown",
   "id": "2468fd2f",
   "metadata": {
    "papermill": {
     "duration": 0.008481,
     "end_time": "2023-06-11T01:33:55.762128",
     "exception": false,
     "start_time": "2023-06-11T01:33:55.753647",
     "status": "completed"
    },
    "tags": []
   },
   "source": [
    "<a id=\"5\"></a>\n",
    "<div class=\"list-group\" id=\"list-tab\" role=\"tablist\">\n",
    "<p style=\"background-color:#060047;font-family:newtimeroman;color:#FFEAEA;font-size:160%;text-align:center;border-radius:10px 10px;\">Descriptive Statistics</p> "
   ]
  },
  {
   "cell_type": "code",
   "execution_count": 4,
   "id": "7f8a2ab7",
   "metadata": {
    "execution": {
     "iopub.execute_input": "2023-06-11T01:33:55.783205Z",
     "iopub.status.busy": "2023-06-11T01:33:55.781243Z",
     "iopub.status.idle": "2023-06-11T01:33:56.751837Z",
     "shell.execute_reply": "2023-06-11T01:33:56.749696Z"
    },
    "papermill": {
     "duration": 0.984903,
     "end_time": "2023-06-11T01:33:56.755020",
     "exception": false,
     "start_time": "2023-06-11T01:33:55.770117",
     "status": "completed"
    },
    "tags": []
   },
   "outputs": [
    {
     "data": {
      "text/html": [
       "<table class=\"dataframe\">\n",
       "<caption>A psych: 10 × 13</caption>\n",
       "<thead>\n",
       "\t<tr><th></th><th scope=col>vars</th><th scope=col>n</th><th scope=col>mean</th><th scope=col>sd</th><th scope=col>median</th><th scope=col>trimmed</th><th scope=col>mad</th><th scope=col>min</th><th scope=col>max</th><th scope=col>range</th><th scope=col>skew</th><th scope=col>kurtosis</th><th scope=col>se</th></tr>\n",
       "\t<tr><th></th><th scope=col>&lt;int&gt;</th><th scope=col>&lt;dbl&gt;</th><th scope=col>&lt;dbl&gt;</th><th scope=col>&lt;dbl&gt;</th><th scope=col>&lt;dbl&gt;</th><th scope=col>&lt;dbl&gt;</th><th scope=col>&lt;dbl&gt;</th><th scope=col>&lt;dbl&gt;</th><th scope=col>&lt;dbl&gt;</th><th scope=col>&lt;dbl&gt;</th><th scope=col>&lt;dbl&gt;</th><th scope=col>&lt;dbl&gt;</th><th scope=col>&lt;dbl&gt;</th></tr>\n",
       "</thead>\n",
       "<tbody>\n",
       "\t<tr><th scope=row>carat</th><td> 1</td><td>53940</td><td>   0.7979397</td><td>   0.4740112</td><td>   0.70</td><td>   0.7349655</td><td>   0.474432</td><td>  0.2</td><td>    5.01</td><td>    4.81</td><td> 1.11658382</td><td> 1.2562498</td><td> 0.002040954</td></tr>\n",
       "\t<tr><th scope=row>cut*</th><td> 2</td><td>53940</td><td>   3.5530033</td><td>   1.0277077</td><td>   3.00</td><td>   3.6035641</td><td>   1.482600</td><td>  1.0</td><td>    5.00</td><td>    4.00</td><td>-0.18743256</td><td>-0.4661148</td><td> 0.004425009</td></tr>\n",
       "\t<tr><th scope=row>color*</th><td> 3</td><td>53940</td><td>   3.5941973</td><td>   1.7011048</td><td>   4.00</td><td>   3.5526743</td><td>   1.482600</td><td>  1.0</td><td>    7.00</td><td>    6.00</td><td> 0.18935538</td><td>-0.8668722</td><td> 0.007324460</td></tr>\n",
       "\t<tr><th scope=row>clarity*</th><td> 4</td><td>53940</td><td>   4.8351502</td><td>   1.7245911</td><td>   5.00</td><td>   4.7523637</td><td>   1.482600</td><td>  1.0</td><td>    8.00</td><td>    7.00</td><td> 0.17490695</td><td>-0.8209898</td><td> 0.007425585</td></tr>\n",
       "\t<tr><th scope=row>depth</th><td> 5</td><td>53940</td><td>  61.7494049</td><td>   1.4326213</td><td>  61.80</td><td>  61.7846079</td><td>   1.037820</td><td> 43.0</td><td>   79.00</td><td>   36.00</td><td>-0.08228945</td><td> 5.7384473</td><td> 0.006168448</td></tr>\n",
       "\t<tr><th scope=row>table</th><td> 6</td><td>53940</td><td>  57.4571839</td><td>   2.2344906</td><td>  57.00</td><td>  57.3183514</td><td>   1.482600</td><td> 43.0</td><td>   95.00</td><td>   52.00</td><td> 0.79685153</td><td> 2.8012708</td><td> 0.009621063</td></tr>\n",
       "\t<tr><th scope=row>price</th><td> 7</td><td>53940</td><td>3932.7997219</td><td>3989.4397381</td><td>2401.00</td><td>3158.9923526</td><td>2475.942000</td><td>326.0</td><td>18823.00</td><td>18497.00</td><td> 1.61830527</td><td> 2.1771907</td><td>17.177360816</td></tr>\n",
       "\t<tr><th scope=row>x</th><td> 8</td><td>53940</td><td>   5.7311572</td><td>   1.1217607</td><td>   5.70</td><td>   5.6600758</td><td>   1.378818</td><td>  0.0</td><td>   10.74</td><td>   10.74</td><td> 0.37865528</td><td>-0.6183029</td><td> 0.004829974</td></tr>\n",
       "\t<tr><th scope=row>y</th><td> 9</td><td>53940</td><td>   5.7345260</td><td>   1.1421347</td><td>   5.71</td><td>   5.6627443</td><td>   1.363992</td><td>  0.0</td><td>   58.90</td><td>   58.90</td><td> 2.43403134</td><td>91.2024980</td><td> 0.004917698</td></tr>\n",
       "\t<tr><th scope=row>z</th><td>10</td><td>53940</td><td>   3.5387338</td><td>   0.7056988</td><td>   3.53</td><td>   3.4948834</td><td>   0.845082</td><td>  0.0</td><td>   31.80</td><td>   31.80</td><td> 1.52233789</td><td>47.0802865</td><td> 0.003038533</td></tr>\n",
       "</tbody>\n",
       "</table>\n"
      ],
      "text/latex": [
       "A psych: 10 × 13\n",
       "\\begin{tabular}{r|lllllllllllll}\n",
       "  & vars & n & mean & sd & median & trimmed & mad & min & max & range & skew & kurtosis & se\\\\\n",
       "  & <int> & <dbl> & <dbl> & <dbl> & <dbl> & <dbl> & <dbl> & <dbl> & <dbl> & <dbl> & <dbl> & <dbl> & <dbl>\\\\\n",
       "\\hline\n",
       "\tcarat &  1 & 53940 &    0.7979397 &    0.4740112 &    0.70 &    0.7349655 &    0.474432 &   0.2 &     5.01 &     4.81 &  1.11658382 &  1.2562498 &  0.002040954\\\\\n",
       "\tcut* &  2 & 53940 &    3.5530033 &    1.0277077 &    3.00 &    3.6035641 &    1.482600 &   1.0 &     5.00 &     4.00 & -0.18743256 & -0.4661148 &  0.004425009\\\\\n",
       "\tcolor* &  3 & 53940 &    3.5941973 &    1.7011048 &    4.00 &    3.5526743 &    1.482600 &   1.0 &     7.00 &     6.00 &  0.18935538 & -0.8668722 &  0.007324460\\\\\n",
       "\tclarity* &  4 & 53940 &    4.8351502 &    1.7245911 &    5.00 &    4.7523637 &    1.482600 &   1.0 &     8.00 &     7.00 &  0.17490695 & -0.8209898 &  0.007425585\\\\\n",
       "\tdepth &  5 & 53940 &   61.7494049 &    1.4326213 &   61.80 &   61.7846079 &    1.037820 &  43.0 &    79.00 &    36.00 & -0.08228945 &  5.7384473 &  0.006168448\\\\\n",
       "\ttable &  6 & 53940 &   57.4571839 &    2.2344906 &   57.00 &   57.3183514 &    1.482600 &  43.0 &    95.00 &    52.00 &  0.79685153 &  2.8012708 &  0.009621063\\\\\n",
       "\tprice &  7 & 53940 & 3932.7997219 & 3989.4397381 & 2401.00 & 3158.9923526 & 2475.942000 & 326.0 & 18823.00 & 18497.00 &  1.61830527 &  2.1771907 & 17.177360816\\\\\n",
       "\tx &  8 & 53940 &    5.7311572 &    1.1217607 &    5.70 &    5.6600758 &    1.378818 &   0.0 &    10.74 &    10.74 &  0.37865528 & -0.6183029 &  0.004829974\\\\\n",
       "\ty &  9 & 53940 &    5.7345260 &    1.1421347 &    5.71 &    5.6627443 &    1.363992 &   0.0 &    58.90 &    58.90 &  2.43403134 & 91.2024980 &  0.004917698\\\\\n",
       "\tz & 10 & 53940 &    3.5387338 &    0.7056988 &    3.53 &    3.4948834 &    0.845082 &   0.0 &    31.80 &    31.80 &  1.52233789 & 47.0802865 &  0.003038533\\\\\n",
       "\\end{tabular}\n"
      ],
      "text/markdown": [
       "\n",
       "A psych: 10 × 13\n",
       "\n",
       "| <!--/--> | vars &lt;int&gt; | n &lt;dbl&gt; | mean &lt;dbl&gt; | sd &lt;dbl&gt; | median &lt;dbl&gt; | trimmed &lt;dbl&gt; | mad &lt;dbl&gt; | min &lt;dbl&gt; | max &lt;dbl&gt; | range &lt;dbl&gt; | skew &lt;dbl&gt; | kurtosis &lt;dbl&gt; | se &lt;dbl&gt; |\n",
       "|---|---|---|---|---|---|---|---|---|---|---|---|---|---|\n",
       "| carat |  1 | 53940 |    0.7979397 |    0.4740112 |    0.70 |    0.7349655 |    0.474432 |   0.2 |     5.01 |     4.81 |  1.11658382 |  1.2562498 |  0.002040954 |\n",
       "| cut* |  2 | 53940 |    3.5530033 |    1.0277077 |    3.00 |    3.6035641 |    1.482600 |   1.0 |     5.00 |     4.00 | -0.18743256 | -0.4661148 |  0.004425009 |\n",
       "| color* |  3 | 53940 |    3.5941973 |    1.7011048 |    4.00 |    3.5526743 |    1.482600 |   1.0 |     7.00 |     6.00 |  0.18935538 | -0.8668722 |  0.007324460 |\n",
       "| clarity* |  4 | 53940 |    4.8351502 |    1.7245911 |    5.00 |    4.7523637 |    1.482600 |   1.0 |     8.00 |     7.00 |  0.17490695 | -0.8209898 |  0.007425585 |\n",
       "| depth |  5 | 53940 |   61.7494049 |    1.4326213 |   61.80 |   61.7846079 |    1.037820 |  43.0 |    79.00 |    36.00 | -0.08228945 |  5.7384473 |  0.006168448 |\n",
       "| table |  6 | 53940 |   57.4571839 |    2.2344906 |   57.00 |   57.3183514 |    1.482600 |  43.0 |    95.00 |    52.00 |  0.79685153 |  2.8012708 |  0.009621063 |\n",
       "| price |  7 | 53940 | 3932.7997219 | 3989.4397381 | 2401.00 | 3158.9923526 | 2475.942000 | 326.0 | 18823.00 | 18497.00 |  1.61830527 |  2.1771907 | 17.177360816 |\n",
       "| x |  8 | 53940 |    5.7311572 |    1.1217607 |    5.70 |    5.6600758 |    1.378818 |   0.0 |    10.74 |    10.74 |  0.37865528 | -0.6183029 |  0.004829974 |\n",
       "| y |  9 | 53940 |    5.7345260 |    1.1421347 |    5.71 |    5.6627443 |    1.363992 |   0.0 |    58.90 |    58.90 |  2.43403134 | 91.2024980 |  0.004917698 |\n",
       "| z | 10 | 53940 |    3.5387338 |    0.7056988 |    3.53 |    3.4948834 |    0.845082 |   0.0 |    31.80 |    31.80 |  1.52233789 | 47.0802865 |  0.003038533 |\n",
       "\n"
      ],
      "text/plain": [
       "         vars n     mean         sd           median  trimmed      mad        \n",
       "carat     1   53940    0.7979397    0.4740112    0.70    0.7349655    0.474432\n",
       "cut*      2   53940    3.5530033    1.0277077    3.00    3.6035641    1.482600\n",
       "color*    3   53940    3.5941973    1.7011048    4.00    3.5526743    1.482600\n",
       "clarity*  4   53940    4.8351502    1.7245911    5.00    4.7523637    1.482600\n",
       "depth     5   53940   61.7494049    1.4326213   61.80   61.7846079    1.037820\n",
       "table     6   53940   57.4571839    2.2344906   57.00   57.3183514    1.482600\n",
       "price     7   53940 3932.7997219 3989.4397381 2401.00 3158.9923526 2475.942000\n",
       "x         8   53940    5.7311572    1.1217607    5.70    5.6600758    1.378818\n",
       "y         9   53940    5.7345260    1.1421347    5.71    5.6627443    1.363992\n",
       "z        10   53940    3.5387338    0.7056988    3.53    3.4948834    0.845082\n",
       "         min   max      range    skew        kurtosis   se          \n",
       "carat      0.2     5.01     4.81  1.11658382  1.2562498  0.002040954\n",
       "cut*       1.0     5.00     4.00 -0.18743256 -0.4661148  0.004425009\n",
       "color*     1.0     7.00     6.00  0.18935538 -0.8668722  0.007324460\n",
       "clarity*   1.0     8.00     7.00  0.17490695 -0.8209898  0.007425585\n",
       "depth     43.0    79.00    36.00 -0.08228945  5.7384473  0.006168448\n",
       "table     43.0    95.00    52.00  0.79685153  2.8012708  0.009621063\n",
       "price    326.0 18823.00 18497.00  1.61830527  2.1771907 17.177360816\n",
       "x          0.0    10.74    10.74  0.37865528 -0.6183029  0.004829974\n",
       "y          0.0    58.90    58.90  2.43403134 91.2024980  0.004917698\n",
       "z          0.0    31.80    31.80  1.52233789 47.0802865  0.003038533"
      ]
     },
     "metadata": {},
     "output_type": "display_data"
    }
   ],
   "source": [
    "describe(df)"
   ]
  },
  {
   "cell_type": "code",
   "execution_count": 5,
   "id": "c7280a11",
   "metadata": {
    "execution": {
     "iopub.execute_input": "2023-06-11T01:33:56.776686Z",
     "iopub.status.busy": "2023-06-11T01:33:56.774729Z",
     "iopub.status.idle": "2023-06-11T01:33:56.801661Z",
     "shell.execute_reply": "2023-06-11T01:33:56.799343Z"
    },
    "papermill": {
     "duration": 0.041381,
     "end_time": "2023-06-11T01:33:56.805045",
     "exception": false,
     "start_time": "2023-06-11T01:33:56.763664",
     "status": "completed"
    },
    "tags": []
   },
   "outputs": [],
   "source": [
    "df$cut <- factor(df$cut)"
   ]
  },
  {
   "cell_type": "markdown",
   "id": "64668a23",
   "metadata": {
    "papermill": {
     "duration": 0.008463,
     "end_time": "2023-06-11T01:33:56.822063",
     "exception": false,
     "start_time": "2023-06-11T01:33:56.813600",
     "status": "completed"
    },
    "tags": []
   },
   "source": [
    "<a id=\"6\"></a>\n",
    "<div class=\"list-group\" id=\"list-tab\" role=\"tablist\">\n",
    "<p style=\"background-color:#060047;font-family:newtimeroman;color:#FFEAEA;font-size:160%;text-align:center;border-radius:10px 10px;\">Data Splitting</p>  "
   ]
  },
  {
   "cell_type": "code",
   "execution_count": 6,
   "id": "2b2691a8",
   "metadata": {
    "execution": {
     "iopub.execute_input": "2023-06-11T01:33:56.843482Z",
     "iopub.status.busy": "2023-06-11T01:33:56.841582Z",
     "iopub.status.idle": "2023-06-11T01:33:56.881082Z",
     "shell.execute_reply": "2023-06-11T01:33:56.878882Z"
    },
    "papermill": {
     "duration": 0.053474,
     "end_time": "2023-06-11T01:33:56.884142",
     "exception": false,
     "start_time": "2023-06-11T01:33:56.830668",
     "status": "completed"
    },
    "tags": []
   },
   "outputs": [],
   "source": [
    "index <- sample(2,nrow(df),replace=T, prob=c(0.7, 0.3))\n",
    "\n",
    "Train <- df[index==1,]\n",
    "Test <- df[index==2,]"
   ]
  },
  {
   "cell_type": "markdown",
   "id": "54881cef",
   "metadata": {
    "papermill": {
     "duration": 0.008436,
     "end_time": "2023-06-11T01:33:56.901053",
     "exception": false,
     "start_time": "2023-06-11T01:33:56.892617",
     "status": "completed"
    },
    "tags": []
   },
   "source": [
    "<a id=\"7\"></a>\n",
    "<div class=\"list-group\" id=\"list-tab\" role=\"tablist\">\n",
    "<p style=\"background-color:#060047;font-family:newtimeroman;color:#FFEAEA;font-size:160%;text-align:center;border-radius:10px 10px;\">Random Forest Classification Model</p>  "
   ]
  },
  {
   "cell_type": "code",
   "execution_count": 7,
   "id": "b80d9303",
   "metadata": {
    "execution": {
     "iopub.execute_input": "2023-06-11T01:33:56.922657Z",
     "iopub.status.busy": "2023-06-11T01:33:56.920703Z",
     "iopub.status.idle": "2023-06-11T01:34:44.266445Z",
     "shell.execute_reply": "2023-06-11T01:34:44.264122Z"
    },
    "papermill": {
     "duration": 47.361325,
     "end_time": "2023-06-11T01:34:44.270918",
     "exception": false,
     "start_time": "2023-06-11T01:33:56.909593",
     "status": "completed"
    },
    "tags": []
   },
   "outputs": [],
   "source": [
    "# Random Forest Model\n",
    "RFM <- randomForest(cut~.,data=Train)"
   ]
  },
  {
   "cell_type": "code",
   "execution_count": 8,
   "id": "8a78b649",
   "metadata": {
    "execution": {
     "iopub.execute_input": "2023-06-11T01:34:44.294327Z",
     "iopub.status.busy": "2023-06-11T01:34:44.292396Z",
     "iopub.status.idle": "2023-06-11T01:34:46.498242Z",
     "shell.execute_reply": "2023-06-11T01:34:46.495952Z"
    },
    "papermill": {
     "duration": 2.221343,
     "end_time": "2023-06-11T01:34:46.502455",
     "exception": false,
     "start_time": "2023-06-11T01:34:44.281112",
     "status": "completed"
    },
    "tags": []
   },
   "outputs": [],
   "source": [
    "# Evaluating Model Accuracy\n",
    "predictions <- predict(RFM,Test)\n",
    "Test$predictions <- predictions\n",
    "# View(Test,10)"
   ]
  },
  {
   "cell_type": "code",
   "execution_count": 9,
   "id": "2bf3b0fb",
   "metadata": {
    "execution": {
     "iopub.execute_input": "2023-06-11T01:34:46.525113Z",
     "iopub.status.busy": "2023-06-11T01:34:46.523154Z",
     "iopub.status.idle": "2023-06-11T01:34:46.562601Z",
     "shell.execute_reply": "2023-06-11T01:34:46.560448Z"
    },
    "papermill": {
     "duration": 0.054517,
     "end_time": "2023-06-11T01:34:46.565750",
     "exception": false,
     "start_time": "2023-06-11T01:34:46.511233",
     "status": "completed"
    },
    "tags": []
   },
   "outputs": [
    {
     "data": {
      "text/plain": [
       "            \n",
       "             bFair bGood bIdeal bPremium bVery Good\n",
       "  bFair        411    32      6       16          5\n",
       "  bGood         36   993     20       72        298\n",
       "  bIdeal         3    12   5860      237        255\n",
       "  bPremium       0    12    429     3375        323\n",
       "  bVery Good     3   220    776      668       1980"
      ]
     },
     "metadata": {},
     "output_type": "display_data"
    },
    {
     "data": {
      "text/html": [
       "0.786622615633961"
      ],
      "text/latex": [
       "0.786622615633961"
      ],
      "text/markdown": [
       "0.786622615633961"
      ],
      "text/plain": [
       "[1] 0.7866226"
      ]
     },
     "metadata": {},
     "output_type": "display_data"
    },
    {
     "name": "stdout",
     "output_type": "stream",
     "text": [
      "\n"
     ]
    }
   ],
   "source": [
    "# Confusion Matrix\n",
    "CFM <- table(Test$cut, Test$predictions)\n",
    "CFM\n",
    "\n",
    "Classification_Accuracy <- sum(diag(CFM)/sum(CFM))\n",
    "Classification_Accuracy\n",
    "cat(\"\\n\")"
   ]
  },
  {
   "cell_type": "markdown",
   "id": "57f1dcc7",
   "metadata": {
    "papermill": {
     "duration": 0.009227,
     "end_time": "2023-06-11T01:34:46.584260",
     "exception": false,
     "start_time": "2023-06-11T01:34:46.575033",
     "status": "completed"
    },
    "tags": []
   },
   "source": [
    "<a id=\"8\"></a>\n",
    "<div class=\"list-group\" id=\"list-tab\" role=\"tablist\">\n",
    "<p style=\"background-color:#060047;font-family:newtimeroman;color:#FFEAEA;font-size:160%;text-align:center;border-radius:10px 10px;\">Conclusion</p>"
   ]
  },
  {
   "cell_type": "markdown",
   "id": "498e6ed9",
   "metadata": {
    "papermill": {
     "duration": 0.009021,
     "end_time": "2023-06-11T01:34:46.602336",
     "exception": false,
     "start_time": "2023-06-11T01:34:46.593315",
     "status": "completed"
    },
    "tags": []
   },
   "source": [
    "The <b>accuracy</b> of the Full Random Forest Classification Model for predicting a diamond's cut is <b>78%</b>, which is a good percentage."
   ]
  },
  {
   "cell_type": "markdown",
   "id": "4ef9bf3c",
   "metadata": {
    "papermill": {
     "duration": 0.00918,
     "end_time": "2023-06-11T01:34:46.621033",
     "exception": false,
     "start_time": "2023-06-11T01:34:46.611853",
     "status": "completed"
    },
    "tags": []
   },
   "source": [
    "<center>\n",
    "<img src=\"https://github.com/DorobantuDiana/DS_Projects/blob/main/objects/diamonds&girls.gif?raw=true\" width=450>\n",
    "</center>"
   ]
  }
 ],
 "metadata": {
  "kernelspec": {
   "display_name": "R",
   "language": "R",
   "name": "ir"
  },
  "language_info": {
   "codemirror_mode": "r",
   "file_extension": ".r",
   "mimetype": "text/x-r-source",
   "name": "R",
   "pygments_lexer": "r",
   "version": "4.0.5"
  },
  "papermill": {
   "default_parameters": {},
   "duration": 77.072711,
   "end_time": "2023-06-11T01:34:46.956416",
   "environment_variables": {},
   "exception": null,
   "input_path": "__notebook__.ipynb",
   "output_path": "__notebook__.ipynb",
   "parameters": {},
   "start_time": "2023-06-11T01:33:29.883705",
   "version": "2.4.0"
  }
 },
 "nbformat": 4,
 "nbformat_minor": 5
}
