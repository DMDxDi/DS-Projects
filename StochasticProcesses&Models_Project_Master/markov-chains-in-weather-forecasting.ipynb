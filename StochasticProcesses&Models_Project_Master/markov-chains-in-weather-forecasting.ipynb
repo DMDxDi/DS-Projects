{
 "cells": [
  {
   "cell_type": "markdown",
   "id": "bd1da738",
   "metadata": {
    "papermill": {
     "duration": 0.009906,
     "end_time": "2023-11-22T20:53:14.084534",
     "exception": false,
     "start_time": "2023-11-22T20:53:14.074628",
     "status": "completed"
    },
    "tags": []
   },
   "source": [
    "<div style=\"padding:20px; \n",
    "            color:#f5f5f5;\n",
    "            margin:10px;\n",
    "            font-size:220%;\n",
    "            text-align:center;\n",
    "            display:fill;\n",
    "            border-radius:20px;\n",
    "            border-width: 5px;\n",
    "            border-style: solid;\n",
    "            border-color:#e3bf09;\n",
    "            background-color:#e3bf09;\n",
    "            font-family:newtimeroman;\n",
    "            overflow:hidden;\n",
    "            font-weight:500\">Applicability of Markov Chains in Weather Forecasting</div>"
   ]
  },
  {
   "cell_type": "markdown",
   "id": "5e65e97c",
   "metadata": {
    "papermill": {
     "duration": 0.007921,
     "end_time": "2023-11-22T20:53:14.100632",
     "exception": false,
     "start_time": "2023-11-22T20:53:14.092711",
     "status": "completed"
    },
    "tags": []
   },
   "source": [
    "<center>\n",
    "<img src=\"https://github.com/DorobantuDiana/DS_Projects/blob/main/objects/weather_pendulum.gif?raw=true\" width=300>\n",
    "</center>"
   ]
  },
  {
   "cell_type": "markdown",
   "id": "dd61cc14",
   "metadata": {
    "papermill": {
     "duration": 0.00956,
     "end_time": "2023-11-22T20:53:14.118076",
     "exception": false,
     "start_time": "2023-11-22T20:53:14.108516",
     "status": "completed"
    },
    "tags": []
   },
   "source": [
    "---\n",
    "<br>\n",
    "<div class=\"list-group\" id=\"list-tab\" role=\"tablist\">\n",
    "<p style=\"background-color:#9ADCFF;font-family:newtimeroman;color:#f5f5f5;font-size:160%;text-align:center;border-radius:10px 10px;\">TABLE OF CONTENTS</p>   \n",
    "    \n",
    "    \n",
    "1.  [Scope & Methods ](#1)\n",
    "    \n",
    "2.  [Libraries & Data Loading](#2)\n",
    "    \n",
    "3.  [State Space](#3)\n",
    "   \n",
    "4.  [Transition Matrix](#4)\n",
    "    \n",
    "5.  [Transition Graph](#5)\n",
    "    \n",
    "6.  [Ergodicity](#6)\n",
    "    \n",
    "7.  [Limiting Distribution](#7) \n",
    "    \n",
    "8.  [Limiting Matrix](#8) \n",
    " \n",
    "9.  [Trajectory Simulation](#9)\n",
    "\n",
    "10. [Average Turnaround Time](#10)\n",
    "    \n",
    "  \n",
    "<br>\n",
    "    \n",
    "---"
   ]
  },
  {
   "cell_type": "markdown",
   "id": "c9586e8d",
   "metadata": {
    "papermill": {
     "duration": 0.007859,
     "end_time": "2023-11-22T20:53:14.133819",
     "exception": false,
     "start_time": "2023-11-22T20:53:14.125960",
     "status": "completed"
    },
    "tags": []
   },
   "source": [
    "<a id=\"1\"></a>\n",
    "<p style=\"background-color:#9ADCFF;font-family:newtimeroman;color:#f5f5f5;font-size:150%;text-align:center;border-radius:10px 10px;\">Scope & Methods</p>"
   ]
  },
  {
   "cell_type": "markdown",
   "id": "cc97088a",
   "metadata": {
    "papermill": {
     "duration": 0.007843,
     "end_time": "2023-11-22T20:53:14.149482",
     "exception": false,
     "start_time": "2023-11-22T20:53:14.141639",
     "status": "completed"
    },
    "tags": []
   },
   "source": [
    "Since the advent of powerful computers, numerical models have been used to better understand weather dynamics.\n",
    "\n",
    "The <i>two main objectives</i> sought to be achieved with these models are <u><i>improved weather predictions</i></u> and a <u><i>better understanding of Earth's climatic system sensitivity to anthropogenic influences</i></u>. Currently, global models, together with data from satellite observations and ground-based measurements, are used to drive local models. \n",
    "\n",
    "One of the methods used for weather forecasting is called the <i>analog method</i>. It involves examining the <u>past state</u> (which is the same as our current state) and predicting the weather based on what happened in the past. Therefore, the Markov model can be used to apply analog forecasting methods for weather prediction.\n",
    "\n",
    "In probability theory, a <b><i>Markov model is a <u>stochastic</u> model used to model randomly changing systems</i></b>. It is assumed that <b><i><u>future states depend only on the current state</u></i></b>, not on the events that occurred before it.\n",
    "\n",
    "In the context of this project, we will make observations about the <b>weather in Seoul</b>, the capital of South Korea. Thus, we have data regarding the type of weather during the period <b>December 31, 2019</b> to <b>April 20, 2020</b>. \n",
    "\n",
    "In general, the climate of Korea is characterized by the seasonal alternation of <b>continental influence</b>: <u>cold and dry</u> in <b>winter</b>, and <b>monsoon influence</b>: <u>humid and warm</u> in <b>summer</b>. \n",
    "\n",
    "In Seoul, the average temperature in <b>January</b> varies between <b>-7°C</b> and <b>1°C</b>, while the average temperature in <b>July</b> ranges from <b>22°C</b> to <b>29°C</b>.\n",
    "\n",
    "The amount of precipitation is concentrated during the summer months, from June to September. The southern coast is the place where late typhoons occur, with strong winds and abundant precipitation. The average annual precipitation ranges from 1,370mm/m2 in Seoul to 1,470mm/m2 in Busan (with peaks of around 1,500 on Jeju Island).\n",
    "\n",
    "Winter begins in December and lasts until mid-March. In the northern region, where Seoul is located, winters are harsh with temperatures almost always below 0°C. However, snowfall is relatively rare and not abundant. The main reason for the extreme winters in Korea is the Siberian wind. In the southern part of South Korea, winters are mild (Busan with an average temperature of 5°C).\n",
    "\n",
    "</br>\n",
    "\n",
    "<center>\n",
    "<img src=\"https://github.com/DorobantuDiana/DS_Projects/blob/main/Environment/Proiect%20P&MS/Monthly%20average%20temperatures%20and%20weather.%20Monthly%20precipitation%20and%20snowfall%20in%20Seoul%202015%20-%202021.png?raw=true\" width=600>\n",
    "</center>\n",
    "\n",
    "</br>\n",
    "\n",
    "</br>\n",
    "\n",
    "\n",
    "The Korea Institute of Atmospheric Prediction Systems (<b>KIAPS</b>) initiated a national project in 2011 for developing a new <i>global atmospheric model system</i>. The ultimate goal of this 9-year project is to replace the current operational model at the Korea Meteorological Administration (<b>KMA</b>), which was adopted from the Unified Model (<b>UM</b>) of the UK Met Office in 2010. \n",
    "\n",
    "The <b>Korean Integrated Model</b> (<b>KIM</b>) has been implemented within a real-time forecast framework with an advanced physics parameterization package. The new generation of the global KIM model was <u>launched operationally in April 2020</u>."
   ]
  },
  {
   "cell_type": "markdown",
   "id": "fb19585e",
   "metadata": {
    "papermill": {
     "duration": 0.007902,
     "end_time": "2023-11-22T20:53:14.165198",
     "exception": false,
     "start_time": "2023-11-22T20:53:14.157296",
     "status": "completed"
    },
    "tags": []
   },
   "source": [
    "<a id=\"2\"></a>\n",
    "<div class=\"list-group\" id=\"list-tab\" role=\"tablist\">\n",
    "<p style=\"background-color:#9ADCFF;font-family:newtimeroman;color:#f5f5f5;font-size:150%;text-align:center;border-radius:10px 10px;\">Libraries & Data Loading</p>  "
   ]
  },
  {
   "cell_type": "code",
   "execution_count": 1,
   "id": "f5bbc62a",
   "metadata": {
    "execution": {
     "iopub.execute_input": "2023-11-22T20:53:14.185385Z",
     "iopub.status.busy": "2023-11-22T20:53:14.183530Z",
     "iopub.status.idle": "2023-11-22T20:53:18.347875Z",
     "shell.execute_reply": "2023-11-22T20:53:18.346373Z"
    },
    "papermill": {
     "duration": 4.177534,
     "end_time": "2023-11-22T20:53:18.350600",
     "exception": false,
     "start_time": "2023-11-22T20:53:14.173066",
     "status": "completed"
    },
    "tags": []
   },
   "outputs": [],
   "source": [
    "pacman :: p_load(pacman,stats, dplyr, knitr, ggplot2, plotly, psych, gridExtra,\n",
    "                 waffle, emojifont,tidyr, tidytext, wordcloud, GGally, viridis,\n",
    "                tidyverse, rnaturalearth, rnaturalearthdata) \n",
    "\n",
    "options(warn=-1) # warnings will be suppressed and will not be displayed in the console or any output"
   ]
  },
  {
   "cell_type": "code",
   "execution_count": 2,
   "id": "d171c2cb",
   "metadata": {
    "execution": {
     "iopub.execute_input": "2023-11-22T20:53:18.396886Z",
     "iopub.status.busy": "2023-11-22T20:53:18.370586Z",
     "iopub.status.idle": "2023-11-22T20:53:18.442279Z",
     "shell.execute_reply": "2023-11-22T20:53:18.440557Z"
    },
    "papermill": {
     "duration": 0.085414,
     "end_time": "2023-11-22T20:53:18.445009",
     "exception": false,
     "start_time": "2023-11-22T20:53:18.359595",
     "status": "completed"
    },
    "tags": []
   },
   "outputs": [
    {
     "name": "stdout",
     "output_type": "stream",
     "text": [
      "Number of instances: 112"
     ]
    },
    {
     "data": {
      "text/html": [
       "<table class=\"dataframe\">\n",
       "<caption>A data.frame: 10 × 1</caption>\n",
       "<thead>\n",
       "\t<tr><th></th><th scope=col>V1</th></tr>\n",
       "\t<tr><th></th><th scope=col>&lt;chr&gt;</th></tr>\n",
       "</thead>\n",
       "<tbody>\n",
       "\t<tr><th scope=row>1</th><td>clear-day        </td></tr>\n",
       "\t<tr><th scope=row>2</th><td>clear-day        </td></tr>\n",
       "\t<tr><th scope=row>3</th><td>clear-day        </td></tr>\n",
       "\t<tr><th scope=row>4</th><td>partly-cloudy-day</td></tr>\n",
       "\t<tr><th scope=row>5</th><td>clear-day        </td></tr>\n",
       "\t<tr><th scope=row>6</th><td>rain             </td></tr>\n",
       "\t<tr><th scope=row>7</th><td>rain             </td></tr>\n",
       "\t<tr><th scope=row>8</th><td>rain             </td></tr>\n",
       "\t<tr><th scope=row>9</th><td>partly-cloudy-day</td></tr>\n",
       "\t<tr><th scope=row>10</th><td>clear-day        </td></tr>\n",
       "</tbody>\n",
       "</table>\n"
      ],
      "text/latex": [
       "A data.frame: 10 × 1\n",
       "\\begin{tabular}{r|l}\n",
       "  & V1\\\\\n",
       "  & <chr>\\\\\n",
       "\\hline\n",
       "\t1 & clear-day        \\\\\n",
       "\t2 & clear-day        \\\\\n",
       "\t3 & clear-day        \\\\\n",
       "\t4 & partly-cloudy-day\\\\\n",
       "\t5 & clear-day        \\\\\n",
       "\t6 & rain             \\\\\n",
       "\t7 & rain             \\\\\n",
       "\t8 & rain             \\\\\n",
       "\t9 & partly-cloudy-day\\\\\n",
       "\t10 & clear-day        \\\\\n",
       "\\end{tabular}\n"
      ],
      "text/markdown": [
       "\n",
       "A data.frame: 10 × 1\n",
       "\n",
       "| <!--/--> | V1 &lt;chr&gt; |\n",
       "|---|---|\n",
       "| 1 | clear-day         |\n",
       "| 2 | clear-day         |\n",
       "| 3 | clear-day         |\n",
       "| 4 | partly-cloudy-day |\n",
       "| 5 | clear-day         |\n",
       "| 6 | rain              |\n",
       "| 7 | rain              |\n",
       "| 8 | rain              |\n",
       "| 9 | partly-cloudy-day |\n",
       "| 10 | clear-day         |\n",
       "\n"
      ],
      "text/plain": [
       "   V1               \n",
       "1  clear-day        \n",
       "2  clear-day        \n",
       "3  clear-day        \n",
       "4  partly-cloudy-day\n",
       "5  clear-day        \n",
       "6  rain             \n",
       "7  rain             \n",
       "8  rain             \n",
       "9  partly-cloudy-day\n",
       "10 clear-day        "
      ]
     },
     "metadata": {},
     "output_type": "display_data"
    }
   ],
   "source": [
    "# Read data\n",
    "df <- read.table(\"/kaggle/input/sm-and-p-project/weather_seoul.csv\", header = F)\n",
    "\n",
    "# Nr. of instances\n",
    "cat(\"Number of instances:\", nrow(df))\n",
    "\n",
    "# View data\n",
    "head(df, 10)"
   ]
  },
  {
   "cell_type": "markdown",
   "id": "4f322463",
   "metadata": {
    "papermill": {
     "duration": 0.009371,
     "end_time": "2023-11-22T20:53:18.463531",
     "exception": false,
     "start_time": "2023-11-22T20:53:18.454160",
     "status": "completed"
    },
    "tags": []
   },
   "source": [
    "<a id=\"3\"></a>\n",
    "<p style=\"background-color:#9ADCFF;font-family:newtimeroman;color:#f5f5f5;font-size:150%;text-align:center;border-radius:10px 10px;\">State Space</p>"
   ]
  },
  {
   "cell_type": "code",
   "execution_count": 3,
   "id": "53a60707",
   "metadata": {
    "execution": {
     "iopub.execute_input": "2023-11-22T20:53:18.485233Z",
     "iopub.status.busy": "2023-11-22T20:53:18.483935Z",
     "iopub.status.idle": "2023-11-22T20:53:18.515624Z",
     "shell.execute_reply": "2023-11-22T20:53:18.513605Z"
    },
    "papermill": {
     "duration": 0.045607,
     "end_time": "2023-11-22T20:53:18.518277",
     "exception": false,
     "start_time": "2023-11-22T20:53:18.472670",
     "status": "completed"
    },
    "tags": []
   },
   "outputs": [
    {
     "data": {
      "text/html": [
       "<table class=\"dataframe\">\n",
       "<caption>A data.frame: 6 × 1</caption>\n",
       "<thead>\n",
       "\t<tr><th></th><th scope=col>V1</th></tr>\n",
       "\t<tr><th></th><th scope=col>&lt;chr&gt;</th></tr>\n",
       "</thead>\n",
       "<tbody>\n",
       "\t<tr><th scope=row>1</th><td>clear-day        </td></tr>\n",
       "\t<tr><th scope=row>4</th><td>partly-cloudy-day</td></tr>\n",
       "\t<tr><th scope=row>6</th><td>rain             </td></tr>\n",
       "\t<tr><th scope=row>16</th><td>cloudy           </td></tr>\n",
       "\t<tr><th scope=row>48</th><td>snow             </td></tr>\n",
       "\t<tr><th scope=row>79</th><td>wind             </td></tr>\n",
       "</tbody>\n",
       "</table>\n"
      ],
      "text/latex": [
       "A data.frame: 6 × 1\n",
       "\\begin{tabular}{r|l}\n",
       "  & V1\\\\\n",
       "  & <chr>\\\\\n",
       "\\hline\n",
       "\t1 & clear-day        \\\\\n",
       "\t4 & partly-cloudy-day\\\\\n",
       "\t6 & rain             \\\\\n",
       "\t16 & cloudy           \\\\\n",
       "\t48 & snow             \\\\\n",
       "\t79 & wind             \\\\\n",
       "\\end{tabular}\n"
      ],
      "text/markdown": [
       "\n",
       "A data.frame: 6 × 1\n",
       "\n",
       "| <!--/--> | V1 &lt;chr&gt; |\n",
       "|---|---|\n",
       "| 1 | clear-day         |\n",
       "| 4 | partly-cloudy-day |\n",
       "| 6 | rain              |\n",
       "| 16 | cloudy            |\n",
       "| 48 | snow              |\n",
       "| 79 | wind              |\n",
       "\n"
      ],
      "text/plain": [
       "   V1               \n",
       "1  clear-day        \n",
       "4  partly-cloudy-day\n",
       "6  rain             \n",
       "16 cloudy           \n",
       "48 snow             \n",
       "79 wind             "
      ]
     },
     "metadata": {},
     "output_type": "display_data"
    },
    {
     "data": {
      "text/html": [
       "6"
      ],
      "text/latex": [
       "6"
      ],
      "text/markdown": [
       "6"
      ],
      "text/plain": [
       "[1] 6"
      ]
     },
     "metadata": {},
     "output_type": "display_data"
    }
   ],
   "source": [
    "# Identify what the state space S \n",
    "weather_states <- unique(df)\n",
    "weather_states\n",
    "\n",
    "# Identify the number of states\n",
    "nr_states <- nrow(weather_states)\n",
    "nr_states"
   ]
  },
  {
   "cell_type": "markdown",
   "id": "6a6b1349",
   "metadata": {
    "papermill": {
     "duration": 0.009604,
     "end_time": "2023-11-22T20:53:18.537484",
     "exception": false,
     "start_time": "2023-11-22T20:53:18.527880",
     "status": "completed"
    },
    "tags": []
   },
   "source": [
    "<div style=\"border-radius: 40px;\n",
    "            color: #403b34;\n",
    "            background-color: #FCF9BE;\n",
    "            font-size: 100%;\n",
    "            text-align: left;\n",
    "            padding: 20px;\n",
    "            margin: 10px;\n",
    "            box-shadow: 0px 2px 4px rgba(0, 0, 0, 0.1);\">\n",
    "    <p style=\"margin-bottom: 10px; font-weight: bold;\">Output Analysis:</p>\n",
    "    <ul style=\"margin-top: 0;\">\n",
    "        <li>\n",
    "We can conclude that the state space is: <b>\n",
    "            S = {clear-day, partly-cloudy-day, rain, cloudy, snow, wind}</b> </li>\n",
    "        </ul>\n",
    "</div>"
   ]
  },
  {
   "cell_type": "markdown",
   "id": "be7c224f",
   "metadata": {
    "papermill": {
     "duration": 0.009626,
     "end_time": "2023-11-22T20:53:18.557348",
     "exception": false,
     "start_time": "2023-11-22T20:53:18.547722",
     "status": "completed"
    },
    "tags": []
   },
   "source": [
    "<a id=\"4\"></a>\n",
    "<p style=\"background-color:#9ADCFF;font-family:newtimeroman;color:#f5f5f5;font-size:150%;text-align:center;border-radius:10px 10px;\">Transition Matrix</p>"
   ]
  },
  {
   "cell_type": "code",
   "execution_count": 4,
   "id": "20a0ec28",
   "metadata": {
    "execution": {
     "iopub.execute_input": "2023-11-22T20:53:18.580150Z",
     "iopub.status.busy": "2023-11-22T20:53:18.578598Z",
     "iopub.status.idle": "2023-11-22T20:53:18.606610Z",
     "shell.execute_reply": "2023-11-22T20:53:18.605099Z"
    },
    "papermill": {
     "duration": 0.041538,
     "end_time": "2023-11-22T20:53:18.608550",
     "exception": false,
     "start_time": "2023-11-22T20:53:18.567012",
     "status": "completed"
    },
    "tags": []
   },
   "outputs": [
    {
     "data": {
      "text/html": [
       "<table class=\"dataframe\">\n",
       "<caption>A matrix: 6 × 6 of type dbl</caption>\n",
       "<thead>\n",
       "\t<tr><th></th><th scope=col>clear</th><th scope=col>partly-cloudy</th><th scope=col>rain</th><th scope=col>cloudy</th><th scope=col>snow</th><th scope=col>wind</th></tr>\n",
       "</thead>\n",
       "<tbody>\n",
       "\t<tr><th scope=row>clear</th><td>0.5641026</td><td>0.1538462</td><td>0.07692308</td><td>0.17948718</td><td>0.00000000</td><td>0.02564103</td></tr>\n",
       "\t<tr><th scope=row>partly-cloudy</th><td>0.3030303</td><td>0.5757576</td><td>0.03030303</td><td>0.09090909</td><td>0.00000000</td><td>0.00000000</td></tr>\n",
       "\t<tr><th scope=row>rain</th><td>0.0000000</td><td>0.2857143</td><td>0.42857143</td><td>0.28571429</td><td>0.00000000</td><td>0.00000000</td></tr>\n",
       "\t<tr><th scope=row>cloudy</th><td>0.1379310</td><td>0.2068966</td><td>0.00000000</td><td>0.58620690</td><td>0.03448276</td><td>0.03448276</td></tr>\n",
       "\t<tr><th scope=row>snow</th><td>1.0000000</td><td>0.0000000</td><td>0.00000000</td><td>0.00000000</td><td>0.00000000</td><td>0.00000000</td></tr>\n",
       "\t<tr><th scope=row>wind</th><td>0.5000000</td><td>0.0000000</td><td>0.00000000</td><td>0.00000000</td><td>0.00000000</td><td>0.50000000</td></tr>\n",
       "</tbody>\n",
       "</table>\n"
      ],
      "text/latex": [
       "A matrix: 6 × 6 of type dbl\n",
       "\\begin{tabular}{r|llllll}\n",
       "  & clear & partly-cloudy & rain & cloudy & snow & wind\\\\\n",
       "\\hline\n",
       "\tclear & 0.5641026 & 0.1538462 & 0.07692308 & 0.17948718 & 0.00000000 & 0.02564103\\\\\n",
       "\tpartly-cloudy & 0.3030303 & 0.5757576 & 0.03030303 & 0.09090909 & 0.00000000 & 0.00000000\\\\\n",
       "\train & 0.0000000 & 0.2857143 & 0.42857143 & 0.28571429 & 0.00000000 & 0.00000000\\\\\n",
       "\tcloudy & 0.1379310 & 0.2068966 & 0.00000000 & 0.58620690 & 0.03448276 & 0.03448276\\\\\n",
       "\tsnow & 1.0000000 & 0.0000000 & 0.00000000 & 0.00000000 & 0.00000000 & 0.00000000\\\\\n",
       "\twind & 0.5000000 & 0.0000000 & 0.00000000 & 0.00000000 & 0.00000000 & 0.50000000\\\\\n",
       "\\end{tabular}\n"
      ],
      "text/markdown": [
       "\n",
       "A matrix: 6 × 6 of type dbl\n",
       "\n",
       "| <!--/--> | clear | partly-cloudy | rain | cloudy | snow | wind |\n",
       "|---|---|---|---|---|---|---|\n",
       "| clear | 0.5641026 | 0.1538462 | 0.07692308 | 0.17948718 | 0.00000000 | 0.02564103 |\n",
       "| partly-cloudy | 0.3030303 | 0.5757576 | 0.03030303 | 0.09090909 | 0.00000000 | 0.00000000 |\n",
       "| rain | 0.0000000 | 0.2857143 | 0.42857143 | 0.28571429 | 0.00000000 | 0.00000000 |\n",
       "| cloudy | 0.1379310 | 0.2068966 | 0.00000000 | 0.58620690 | 0.03448276 | 0.03448276 |\n",
       "| snow | 1.0000000 | 0.0000000 | 0.00000000 | 0.00000000 | 0.00000000 | 0.00000000 |\n",
       "| wind | 0.5000000 | 0.0000000 | 0.00000000 | 0.00000000 | 0.00000000 | 0.50000000 |\n",
       "\n"
      ],
      "text/plain": [
       "              clear     partly-cloudy rain       cloudy     snow      \n",
       "clear         0.5641026 0.1538462     0.07692308 0.17948718 0.00000000\n",
       "partly-cloudy 0.3030303 0.5757576     0.03030303 0.09090909 0.00000000\n",
       "rain          0.0000000 0.2857143     0.42857143 0.28571429 0.00000000\n",
       "cloudy        0.1379310 0.2068966     0.00000000 0.58620690 0.03448276\n",
       "snow          1.0000000 0.0000000     0.00000000 0.00000000 0.00000000\n",
       "wind          0.5000000 0.0000000     0.00000000 0.00000000 0.00000000\n",
       "              wind      \n",
       "clear         0.02564103\n",
       "partly-cloudy 0.00000000\n",
       "rain          0.00000000\n",
       "cloudy        0.03448276\n",
       "snow          0.00000000\n",
       "wind          0.50000000"
      ]
     },
     "metadata": {},
     "output_type": "display_data"
    }
   ],
   "source": [
    "# Transition matrix P (probabilities are calculated in EXCEL)\n",
    "\n",
    "P <- matrix(c(0.564102564, 0.153846154, 0.076923077, 0.179487179, 0,           0.025641026,\n",
    "              0.303030303, 0.575757576, 0.030303030, 0.090909091, 0,           0,\n",
    "              0,           0.285714286, 0.428571429, 0.285714286, 0,           0,\n",
    "              0.137931034, 0.206896552, 0,           0.586206897, 0.034482759, 0.034482759,\n",
    "              1,           0,           0,           0,           0,           0,\n",
    "              0.5,         0,           0,           0,           0,           0.5),\n",
    "            nrow = 6,\n",
    "            byrow = TRUE)\n",
    "# P\n",
    "\n",
    "# We are checking that the sum per lines is 1:\n",
    "# rowSums(P)\n",
    "\n",
    "# We define a vector that contains the states of the Markov chain:\n",
    "states <- c(\"clear\", \"partly-cloudy\", \"rain\", \"cloudy\", \"snow\", \"wind\")\n",
    "# states\n",
    "\n",
    "# Adaugam etichete liniilor si coloanelor matricei P:\n",
    "rownames(P) <- states\n",
    "colnames(P) <- states\n",
    "P\n"
   ]
  },
  {
   "cell_type": "markdown",
   "id": "e10cd17d",
   "metadata": {
    "papermill": {
     "duration": 0.009201,
     "end_time": "2023-11-22T20:53:18.627179",
     "exception": false,
     "start_time": "2023-11-22T20:53:18.617978",
     "status": "completed"
    },
    "tags": []
   },
   "source": [
    "<a id=\"5\"></a>\n",
    "<p style=\"background-color:#9ADCFF;font-family:newtimeroman;color:#f5f5f5;font-size:150%;text-align:center;border-radius:10px 10px;\">Transition Graph</p>"
   ]
  },
  {
   "cell_type": "markdown",
   "id": "b2781e3e",
   "metadata": {
    "papermill": {
     "duration": 0.008864,
     "end_time": "2023-11-22T20:53:18.644980",
     "exception": false,
     "start_time": "2023-11-22T20:53:18.636116",
     "status": "completed"
    },
    "tags": []
   },
   "source": [
    "Any Markov chain can be described by a <u>directed graph</u> called the <b>transition graph of the Markov chain</b>, where the nodes/vertices represent the <i>states</i> of the chain and the <i>transition probabilities</i> between pairs of states are marked next to the arcs/edges."
   ]
  },
  {
   "cell_type": "markdown",
   "id": "a5c9540b",
   "metadata": {
    "papermill": {
     "duration": 0.009168,
     "end_time": "2023-11-22T20:53:18.663459",
     "exception": false,
     "start_time": "2023-11-22T20:53:18.654291",
     "status": "completed"
    },
    "tags": []
   },
   "source": [
    "<center>\n",
    "<img src=\"https://raw.githubusercontent.com/DorobantuDiana/DS_Projects/main/Environment/Proiect%20P%26MS/graful%20de%20tranzi%C8%9Bie.png\" width=600>\n",
    "</center>"
   ]
  },
  {
   "cell_type": "markdown",
   "id": "f43c8a00",
   "metadata": {
    "papermill": {
     "duration": 0.009171,
     "end_time": "2023-11-22T20:53:18.681669",
     "exception": false,
     "start_time": "2023-11-22T20:53:18.672498",
     "status": "completed"
    },
    "tags": []
   },
   "source": [
    "The finite space of states of a Markov chain can be partitioned into transient and recurrent states:\n",
    "\n",
    "<h2 style='; border:0; border-radius: 10px; font-weight: bold; color:#2b2924'><center> \n",
    "    </br> <i>S = T ∪ R1 ∪ R2 ∪ ... ∪ Rm</i>\n",
    "</center></h2>  \n",
    "\n",
    "where:\n",
    "\n",
    "* T is the set of all transient states\n",
    "* R1, R2, Rm are closed communication classes that contain recurrent states\n",
    "* S = T ∪ R1 ∪ R2 ∪ ... ∪ Rm is called the canonical decomposition of S\n",
    "\n",
    "Considering that, in our case, the Markov chain is <b>irreducible</b>, meaning we have <b>only one (recurrent) class</b>, the space of states cannot be written in any other form. <b>For a finite irreducible Markov chain, all states are recurrent</b>.\n",
    "\n",
    "For a Markov chain with transition matrix P, the period of state i ∈ S, denoted as d(i), is the greatest common divisor (GCD) of all numbers that represent the possible number of steps to return to state i:\n",
    "\n",
    "<h2 style='; border:0; border-radius: 10px; font-weight: bold; color:#2b2924'><center> \n",
    "    </br> <i>d(i) = GCD {n > 0: (p<sub>ii</sub><sup>n</sup> > 0} </i>\n",
    "</center></h2> \n",
    "\n",
    "\n",
    "States within a communication class all have the same period.\n",
    "\n",
    "d(\"clear\") = d(1) = GCD {1, 2, 3, ...} = 1 => the state \"clear\" is aperiodic\n",
    "\n",
    "1 – 1 => 1 step\n",
    "\n",
    "1 – 2 – 1 => 2 steps\n",
    "\n",
    "1 – 2 – 2 – 1 => 3 steps\n",
    "\n",
    "...\n",
    "\n",
    "We can state that <b>all states in the state space are aperiodic</b>.\n",
    "\n",
    "Thus, the Markov chain is aperiodic since it is irreducible, and all states have a period equal to 1."
   ]
  },
  {
   "cell_type": "markdown",
   "id": "83db3bb3",
   "metadata": {
    "papermill": {
     "duration": 0.009485,
     "end_time": "2023-11-22T20:53:18.700039",
     "exception": false,
     "start_time": "2023-11-22T20:53:18.690554",
     "status": "completed"
    },
    "tags": []
   },
   "source": [
    "<a id=\"6\"></a>\n",
    "<p style=\"background-color:#9ADCFF;font-family:newtimeroman;color:#f5f5f5;font-size:150%;text-align:center;border-radius:10px 10px;\">Ergodicity</p>"
   ]
  },
  {
   "cell_type": "markdown",
   "id": "98100a98",
   "metadata": {
    "papermill": {
     "duration": 0.009395,
     "end_time": "2023-11-22T20:53:18.719230",
     "exception": false,
     "start_time": "2023-11-22T20:53:18.709835",
     "status": "completed"
    },
    "tags": []
   },
   "source": [
    "A Markov chain is called ergodic if it is irreducible, aperiodic and all states have a finite mean recurrence time."
   ]
  },
  {
   "cell_type": "code",
   "execution_count": 5,
   "id": "9d890926",
   "metadata": {
    "execution": {
     "iopub.execute_input": "2023-11-22T20:53:18.742565Z",
     "iopub.status.busy": "2023-11-22T20:53:18.741065Z",
     "iopub.status.idle": "2023-11-22T20:53:18.766207Z",
     "shell.execute_reply": "2023-11-22T20:53:18.764740Z"
    },
    "papermill": {
     "duration": 0.039129,
     "end_time": "2023-11-22T20:53:18.768126",
     "exception": false,
     "start_time": "2023-11-22T20:53:18.728997",
     "status": "completed"
    },
    "tags": []
   },
   "outputs": [
    {
     "name": "stdout",
     "output_type": "stream",
     "text": [
      "[1] \"All components of the matrix are positive, therefore we can state that P is a regular matrix => ERGODIC CHAIN\"\n"
     ]
    }
   ],
   "source": [
    "matrixpower <- function(matrix,k) {\n",
    "  if (k == 0) return (diag(dim(matrix)[1]))\n",
    "  if (k == 1) return(matrix)\n",
    "  if (k > 1) return( matrix %*% matrixpower(matrix, k-1))\n",
    "}\n",
    "\n",
    "# We are checking if matrix P is regular, so if there exists a natural number s such that P^s > 0:\n",
    "\n",
    "if (all(matrixpower(P, 10) > 0)) {\n",
    "  print(\"All components of the matrix are positive, therefore we can state that P is a regular matrix => ERGODIC CHAIN\")\n",
    "} else {\n",
    "  print(\"There are non-positive components in the matrix.\")\n",
    "}"
   ]
  },
  {
   "cell_type": "markdown",
   "id": "52ea8df8",
   "metadata": {
    "papermill": {
     "duration": 0.009938,
     "end_time": "2023-11-22T20:53:18.788008",
     "exception": false,
     "start_time": "2023-11-22T20:53:18.778070",
     "status": "completed"
    },
    "tags": []
   },
   "source": [
    "<a id=\"7\"></a>\n",
    "<p style=\"background-color:#9ADCFF;font-family:newtimeroman;color:#f5f5f5;font-size:150%;text-align:center;border-radius:10px 10px;\">Limiting Distribution</p>"
   ]
  },
  {
   "cell_type": "markdown",
   "id": "ec492944",
   "metadata": {
    "papermill": {
     "duration": 0.00983,
     "end_time": "2023-11-22T20:53:18.807788",
     "exception": false,
     "start_time": "2023-11-22T20:53:18.797958",
     "status": "completed"
    },
    "tags": []
   },
   "source": [
    "If the Markov chain is ergodic, then there exists a stationary distribution that is also the unique limiting distribution of the chain.\n",
    "\n",
    "<b>The limiting distribution does not depend on the initial state of the chain.</b>"
   ]
  },
  {
   "cell_type": "code",
   "execution_count": 6,
   "id": "e74c9db1",
   "metadata": {
    "execution": {
     "iopub.execute_input": "2023-11-22T20:53:18.830811Z",
     "iopub.status.busy": "2023-11-22T20:53:18.829284Z",
     "iopub.status.idle": "2023-11-22T20:53:18.867790Z",
     "shell.execute_reply": "2023-11-22T20:53:18.866388Z"
    },
    "papermill": {
     "duration": 0.052278,
     "end_time": "2023-11-22T20:53:18.869692",
     "exception": false,
     "start_time": "2023-11-22T20:53:18.817414",
     "status": "completed"
    },
    "tags": []
   },
   "outputs": [
    {
     "data": {
      "text/html": [
       "<style>\n",
       ".list-inline {list-style: none; margin:0; padding: 0}\n",
       ".list-inline>li {display: inline-block}\n",
       ".list-inline>li:not(:last-child)::after {content: \"\\00b7\"; padding: 0 .5ex}\n",
       "</style>\n",
       "<ol class=list-inline><li>0.345132743285006</li><li>0.292035398256063</li><li>0.0619469025492845</li><li>0.256637167821665</li><li>0.00884955760561772</li><li>0.0353982304823637</li></ol>\n"
      ],
      "text/latex": [
       "\\begin{enumerate*}\n",
       "\\item 0.345132743285006\n",
       "\\item 0.292035398256063\n",
       "\\item 0.0619469025492845\n",
       "\\item 0.256637167821665\n",
       "\\item 0.00884955760561772\n",
       "\\item 0.0353982304823637\n",
       "\\end{enumerate*}\n"
      ],
      "text/markdown": [
       "1. 0.345132743285006\n",
       "2. 0.292035398256063\n",
       "3. 0.0619469025492845\n",
       "4. 0.256637167821665\n",
       "5. 0.00884955760561772\n",
       "6. 0.0353982304823637\n",
       "\n",
       "\n"
      ],
      "text/plain": [
       "[1] 0.345132743 0.292035398 0.061946903 0.256637168 0.008849558 0.035398230"
      ]
     },
     "metadata": {},
     "output_type": "display_data"
    }
   ],
   "source": [
    "# Stationary Distribution\n",
    "stationary <- function(mat) {\n",
    "  x = eigen(t(mat))$vectors[,1]\n",
    "  as.double(x/sum(x))\n",
    "}\n",
    "stationary_distribution<- stationary(P)\n",
    "# stationary_distribution\n",
    "\n",
    "# Limiting Distribution\n",
    "limiting_distribution <- stationary_distribution\n",
    "limiting_distribution"
   ]
  },
  {
   "cell_type": "markdown",
   "id": "0f4a6045",
   "metadata": {
    "papermill": {
     "duration": 0.010973,
     "end_time": "2023-11-22T20:53:18.890746",
     "exception": false,
     "start_time": "2023-11-22T20:53:18.879773",
     "status": "completed"
    },
    "tags": []
   },
   "source": [
    "\n",
    "<div style=\"border-radius: 40px;\n",
    "            color: #403b34;\n",
    "            background-color: #FCF9BE;\n",
    "            font-size: 100%;\n",
    "            text-align: left;\n",
    "            padding: 20px;\n",
    "            margin: 10px;\n",
    "            box-shadow: 0px 2px 4px rgba(0, 0, 0, 0.1);\">\n",
    "    <p style=\"margin-bottom: 10px; font-weight: bold;\">Output Analysis:</p>\n",
    "     \n",
    "Long-term:\n",
    "\n",
    "* The probability of the weather being in the <i><b>clear</b></i> state (regardless of the starting state) is 0.3451 => <b>34.51%</b>;\n",
    "\n",
    "* The probability of the weather being in the <i><b>partly-cloudy</b></i> state (regardless of the starting state) is 0.2920 => <b>29.20%</b>;\n",
    "\n",
    "* The probability of the weather being in the <i><b>rain</b></i> state (regardless of the starting state) is 0.0619 => <b>6.19%</b>;\n",
    "\n",
    "* The probability of the weather being in the <i><b>cloudy</b></i> state (regardless of the starting state) is 0.2566 => <b>25.66%</b>;\n",
    "\n",
    "* The probability of the weather being in the <i><b>snow</b></i> state (regardless of the starting state) is 0.0088 => <b>0.88%</b>;\n",
    "\n",
    "* The probability of the weather being in the <i><b>wind</b></i> state (regardless of the starting state) is 0.0354 => <b>3.54%</b>.\n",
    "        \n",
    "    \n",
    "</div>\n",
    "\n"
   ]
  },
  {
   "cell_type": "markdown",
   "id": "a6be2792",
   "metadata": {
    "papermill": {
     "duration": 0.008857,
     "end_time": "2023-11-22T20:53:18.908957",
     "exception": false,
     "start_time": "2023-11-22T20:53:18.900100",
     "status": "completed"
    },
    "tags": []
   },
   "source": [
    "<a id=\"8\"></a>\n",
    "<p style=\"background-color:#9ADCFF;font-family:newtimeroman;color:#f5f5f5;font-size:150%;text-align:center;border-radius:10px 10px;\">Limiting Matrix</p>"
   ]
  },
  {
   "cell_type": "code",
   "execution_count": 7,
   "id": "588d6191",
   "metadata": {
    "execution": {
     "iopub.execute_input": "2023-11-22T20:53:18.951663Z",
     "iopub.status.busy": "2023-11-22T20:53:18.928591Z",
     "iopub.status.idle": "2023-11-22T20:53:18.985372Z",
     "shell.execute_reply": "2023-11-22T20:53:18.984022Z"
    },
    "papermill": {
     "duration": 0.069524,
     "end_time": "2023-11-22T20:53:18.987106",
     "exception": false,
     "start_time": "2023-11-22T20:53:18.917582",
     "status": "completed"
    },
    "tags": []
   },
   "outputs": [
    {
     "data": {
      "text/html": [
       "37"
      ],
      "text/latex": [
       "37"
      ],
      "text/markdown": [
       "37"
      ],
      "text/plain": [
       "[1] 37"
      ]
     },
     "metadata": {},
     "output_type": "display_data"
    }
   ],
   "source": [
    "# Function to determine the smallest power m of a transition matrix of a Markov chain,\n",
    "# with the property that P^m = P^(m+1)\n",
    "\n",
    "power_func <- function(matrix){\n",
    "  for(m in 1:1000){\n",
    "    mat1 <- round(matrixpower(matrix, m), digits = 9)\n",
    "    mat2 <- round(matrixpower(matrix, m + 1), digits = 9)\n",
    "    if(all.equal(mat1, mat2, tolerance = 0) == TRUE){\n",
    "      return(m)\n",
    "      break\n",
    "    }\n",
    "  }\n",
    "}\n",
    "\n",
    "power <- power_func(P)\n",
    "power"
   ]
  },
  {
   "cell_type": "code",
   "execution_count": 8,
   "id": "5ec521d5",
   "metadata": {
    "execution": {
     "iopub.execute_input": "2023-11-22T20:53:19.009463Z",
     "iopub.status.busy": "2023-11-22T20:53:19.007902Z",
     "iopub.status.idle": "2023-11-22T20:53:19.032318Z",
     "shell.execute_reply": "2023-11-22T20:53:19.030609Z"
    },
    "papermill": {
     "duration": 0.038354,
     "end_time": "2023-11-22T20:53:19.034949",
     "exception": false,
     "start_time": "2023-11-22T20:53:18.996595",
     "status": "completed"
    },
    "tags": []
   },
   "outputs": [
    {
     "data": {
      "text/html": [
       "<table class=\"dataframe\">\n",
       "<caption>A matrix: 6 × 6 of type dbl</caption>\n",
       "<thead>\n",
       "\t<tr><th></th><th scope=col>clear</th><th scope=col>partly-cloudy</th><th scope=col>rain</th><th scope=col>cloudy</th><th scope=col>snow</th><th scope=col>wind</th></tr>\n",
       "</thead>\n",
       "<tbody>\n",
       "\t<tr><th scope=row>clear</th><td>0.3451327</td><td>0.2920354</td><td>0.0619469</td><td>0.2566372</td><td>0.008849558</td><td>0.03539823</td></tr>\n",
       "\t<tr><th scope=row>partly-cloudy</th><td>0.3451327</td><td>0.2920354</td><td>0.0619469</td><td>0.2566372</td><td>0.008849558</td><td>0.03539823</td></tr>\n",
       "\t<tr><th scope=row>rain</th><td>0.3451327</td><td>0.2920354</td><td>0.0619469</td><td>0.2566372</td><td>0.008849558</td><td>0.03539823</td></tr>\n",
       "\t<tr><th scope=row>cloudy</th><td>0.3451327</td><td>0.2920354</td><td>0.0619469</td><td>0.2566372</td><td>0.008849558</td><td>0.03539823</td></tr>\n",
       "\t<tr><th scope=row>snow</th><td>0.3451327</td><td>0.2920354</td><td>0.0619469</td><td>0.2566372</td><td>0.008849558</td><td>0.03539823</td></tr>\n",
       "\t<tr><th scope=row>wind</th><td>0.3451327</td><td>0.2920354</td><td>0.0619469</td><td>0.2566372</td><td>0.008849558</td><td>0.03539823</td></tr>\n",
       "</tbody>\n",
       "</table>\n"
      ],
      "text/latex": [
       "A matrix: 6 × 6 of type dbl\n",
       "\\begin{tabular}{r|llllll}\n",
       "  & clear & partly-cloudy & rain & cloudy & snow & wind\\\\\n",
       "\\hline\n",
       "\tclear & 0.3451327 & 0.2920354 & 0.0619469 & 0.2566372 & 0.008849558 & 0.03539823\\\\\n",
       "\tpartly-cloudy & 0.3451327 & 0.2920354 & 0.0619469 & 0.2566372 & 0.008849558 & 0.03539823\\\\\n",
       "\train & 0.3451327 & 0.2920354 & 0.0619469 & 0.2566372 & 0.008849558 & 0.03539823\\\\\n",
       "\tcloudy & 0.3451327 & 0.2920354 & 0.0619469 & 0.2566372 & 0.008849558 & 0.03539823\\\\\n",
       "\tsnow & 0.3451327 & 0.2920354 & 0.0619469 & 0.2566372 & 0.008849558 & 0.03539823\\\\\n",
       "\twind & 0.3451327 & 0.2920354 & 0.0619469 & 0.2566372 & 0.008849558 & 0.03539823\\\\\n",
       "\\end{tabular}\n"
      ],
      "text/markdown": [
       "\n",
       "A matrix: 6 × 6 of type dbl\n",
       "\n",
       "| <!--/--> | clear | partly-cloudy | rain | cloudy | snow | wind |\n",
       "|---|---|---|---|---|---|---|\n",
       "| clear | 0.3451327 | 0.2920354 | 0.0619469 | 0.2566372 | 0.008849558 | 0.03539823 |\n",
       "| partly-cloudy | 0.3451327 | 0.2920354 | 0.0619469 | 0.2566372 | 0.008849558 | 0.03539823 |\n",
       "| rain | 0.3451327 | 0.2920354 | 0.0619469 | 0.2566372 | 0.008849558 | 0.03539823 |\n",
       "| cloudy | 0.3451327 | 0.2920354 | 0.0619469 | 0.2566372 | 0.008849558 | 0.03539823 |\n",
       "| snow | 0.3451327 | 0.2920354 | 0.0619469 | 0.2566372 | 0.008849558 | 0.03539823 |\n",
       "| wind | 0.3451327 | 0.2920354 | 0.0619469 | 0.2566372 | 0.008849558 | 0.03539823 |\n",
       "\n"
      ],
      "text/plain": [
       "              clear     partly-cloudy rain      cloudy    snow       \n",
       "clear         0.3451327 0.2920354     0.0619469 0.2566372 0.008849558\n",
       "partly-cloudy 0.3451327 0.2920354     0.0619469 0.2566372 0.008849558\n",
       "rain          0.3451327 0.2920354     0.0619469 0.2566372 0.008849558\n",
       "cloudy        0.3451327 0.2920354     0.0619469 0.2566372 0.008849558\n",
       "snow          0.3451327 0.2920354     0.0619469 0.2566372 0.008849558\n",
       "wind          0.3451327 0.2920354     0.0619469 0.2566372 0.008849558\n",
       "              wind      \n",
       "clear         0.03539823\n",
       "partly-cloudy 0.03539823\n",
       "rain          0.03539823\n",
       "cloudy        0.03539823\n",
       "snow          0.03539823\n",
       "wind          0.03539823"
      ]
     },
     "metadata": {},
     "output_type": "display_data"
    }
   ],
   "source": [
    "# The Limiting Matrix is:\n",
    "P_lim <- matrixpower(P, 37)\n",
    "P_lim"
   ]
  },
  {
   "cell_type": "markdown",
   "id": "b6944f38",
   "metadata": {
    "papermill": {
     "duration": 0.010279,
     "end_time": "2023-11-22T20:53:19.055846",
     "exception": false,
     "start_time": "2023-11-22T20:53:19.045567",
     "status": "completed"
    },
    "tags": []
   },
   "source": [
    "<a id=\"9\"></a>\n",
    "<p style=\"background-color:#9ADCFF;font-family:newtimeroman;color:#f5f5f5;font-size:150%;text-align:center;border-radius:10px 10px;\">Trajectory Simulation</p>"
   ]
  },
  {
   "cell_type": "markdown",
   "id": "6efff2b7",
   "metadata": {
    "papermill": {
     "duration": 0.01029,
     "end_time": "2023-11-22T20:53:19.076290",
     "exception": false,
     "start_time": "2023-11-22T20:53:19.066000",
     "status": "completed"
    },
    "tags": []
   },
   "source": [
    "I proposed an initial <b>equal distribution</b> {1/6, 1/6, 1/6, 1/6, 1/6, 1/6} and then simulated a trajectory of the chain for a number of <b>100 steps</b>."
   ]
  },
  {
   "cell_type": "code",
   "execution_count": 9,
   "id": "42713bd3",
   "metadata": {
    "execution": {
     "iopub.execute_input": "2023-11-22T20:53:19.099987Z",
     "iopub.status.busy": "2023-11-22T20:53:19.098603Z",
     "iopub.status.idle": "2023-11-22T20:53:19.135630Z",
     "shell.execute_reply": "2023-11-22T20:53:19.133637Z"
    },
    "papermill": {
     "duration": 0.051645,
     "end_time": "2023-11-22T20:53:19.138018",
     "exception": false,
     "start_time": "2023-11-22T20:53:19.086373",
     "status": "completed"
    },
    "tags": []
   },
   "outputs": [
    {
     "data": {
      "text/html": [
       "<style>\n",
       ".list-inline {list-style: none; margin:0; padding: 0}\n",
       ".list-inline>li {display: inline-block}\n",
       ".list-inline>li:not(:last-child)::after {content: \"\\00b7\"; padding: 0 .5ex}\n",
       "</style>\n",
       "<ol class=list-inline><li>'partly-cloudy'</li><li>'partly-cloudy'</li><li>'cloudy'</li><li>'wind'</li><li>'snow'</li><li>'cloudy'</li><li>'snow'</li><li>'rain'</li><li>'partly-cloudy'</li><li>'clear'</li><li>'cloudy'</li><li>'partly-cloudy'</li><li>'partly-cloudy'</li><li>'rain'</li><li>'rain'</li><li>'rain'</li><li>'wind'</li><li>'wind'</li><li>'snow'</li><li>'wind'</li><li>'partly-cloudy'</li><li>'clear'</li><li>'partly-cloudy'</li><li>'partly-cloudy'</li><li>'snow'</li><li>'partly-cloudy'</li><li>'snow'</li><li>'snow'</li><li>'clear'</li><li>'clear'</li><li>'rain'</li><li>'wind'</li><li>'cloudy'</li><li>'clear'</li><li>'clear'</li><li>'cloudy'</li><li>'cloudy'</li><li>'rain'</li><li>'rain'</li><li>'wind'</li><li>'wind'</li><li>'clear'</li><li>'wind'</li><li>'rain'</li><li>'partly-cloudy'</li><li>'snow'</li><li>'snow'</li><li>'snow'</li><li>'snow'</li><li>'cloudy'</li><li>'partly-cloudy'</li><li>'partly-cloudy'</li><li>'partly-cloudy'</li><li>'wind'</li><li>'snow'</li><li>'wind'</li><li>'wind'</li><li>'clear'</li><li>'clear'</li><li>'clear'</li><li>'partly-cloudy'</li><li>'wind'</li><li>'clear'</li><li>'rain'</li><li>'cloudy'</li><li>'snow'</li><li>'clear'</li><li>'wind'</li><li>'clear'</li><li>'partly-cloudy'</li><li>'partly-cloudy'</li><li>'partly-cloudy'</li><li>'partly-cloudy'</li><li>'clear'</li><li>'cloudy'</li><li>'clear'</li><li>'clear'</li><li>'cloudy'</li><li>'partly-cloudy'</li><li>'rain'</li><li>'rain'</li><li>'partly-cloudy'</li><li>'rain'</li><li>'rain'</li><li>'rain'</li><li>'snow'</li><li>'snow'</li><li>'rain'</li><li>'cloudy'</li><li>'rain'</li><li>'wind'</li><li>'rain'</li><li>'cloudy'</li><li>'snow'</li><li>'partly-cloudy'</li><li>'cloudy'</li><li>'snow'</li><li>'partly-cloudy'</li><li>'partly-cloudy'</li><li>'snow'</li></ol>\n"
      ],
      "text/latex": [
       "\\begin{enumerate*}\n",
       "\\item 'partly-cloudy'\n",
       "\\item 'partly-cloudy'\n",
       "\\item 'cloudy'\n",
       "\\item 'wind'\n",
       "\\item 'snow'\n",
       "\\item 'cloudy'\n",
       "\\item 'snow'\n",
       "\\item 'rain'\n",
       "\\item 'partly-cloudy'\n",
       "\\item 'clear'\n",
       "\\item 'cloudy'\n",
       "\\item 'partly-cloudy'\n",
       "\\item 'partly-cloudy'\n",
       "\\item 'rain'\n",
       "\\item 'rain'\n",
       "\\item 'rain'\n",
       "\\item 'wind'\n",
       "\\item 'wind'\n",
       "\\item 'snow'\n",
       "\\item 'wind'\n",
       "\\item 'partly-cloudy'\n",
       "\\item 'clear'\n",
       "\\item 'partly-cloudy'\n",
       "\\item 'partly-cloudy'\n",
       "\\item 'snow'\n",
       "\\item 'partly-cloudy'\n",
       "\\item 'snow'\n",
       "\\item 'snow'\n",
       "\\item 'clear'\n",
       "\\item 'clear'\n",
       "\\item 'rain'\n",
       "\\item 'wind'\n",
       "\\item 'cloudy'\n",
       "\\item 'clear'\n",
       "\\item 'clear'\n",
       "\\item 'cloudy'\n",
       "\\item 'cloudy'\n",
       "\\item 'rain'\n",
       "\\item 'rain'\n",
       "\\item 'wind'\n",
       "\\item 'wind'\n",
       "\\item 'clear'\n",
       "\\item 'wind'\n",
       "\\item 'rain'\n",
       "\\item 'partly-cloudy'\n",
       "\\item 'snow'\n",
       "\\item 'snow'\n",
       "\\item 'snow'\n",
       "\\item 'snow'\n",
       "\\item 'cloudy'\n",
       "\\item 'partly-cloudy'\n",
       "\\item 'partly-cloudy'\n",
       "\\item 'partly-cloudy'\n",
       "\\item 'wind'\n",
       "\\item 'snow'\n",
       "\\item 'wind'\n",
       "\\item 'wind'\n",
       "\\item 'clear'\n",
       "\\item 'clear'\n",
       "\\item 'clear'\n",
       "\\item 'partly-cloudy'\n",
       "\\item 'wind'\n",
       "\\item 'clear'\n",
       "\\item 'rain'\n",
       "\\item 'cloudy'\n",
       "\\item 'snow'\n",
       "\\item 'clear'\n",
       "\\item 'wind'\n",
       "\\item 'clear'\n",
       "\\item 'partly-cloudy'\n",
       "\\item 'partly-cloudy'\n",
       "\\item 'partly-cloudy'\n",
       "\\item 'partly-cloudy'\n",
       "\\item 'clear'\n",
       "\\item 'cloudy'\n",
       "\\item 'clear'\n",
       "\\item 'clear'\n",
       "\\item 'cloudy'\n",
       "\\item 'partly-cloudy'\n",
       "\\item 'rain'\n",
       "\\item 'rain'\n",
       "\\item 'partly-cloudy'\n",
       "\\item 'rain'\n",
       "\\item 'rain'\n",
       "\\item 'rain'\n",
       "\\item 'snow'\n",
       "\\item 'snow'\n",
       "\\item 'rain'\n",
       "\\item 'cloudy'\n",
       "\\item 'rain'\n",
       "\\item 'wind'\n",
       "\\item 'rain'\n",
       "\\item 'cloudy'\n",
       "\\item 'snow'\n",
       "\\item 'partly-cloudy'\n",
       "\\item 'cloudy'\n",
       "\\item 'snow'\n",
       "\\item 'partly-cloudy'\n",
       "\\item 'partly-cloudy'\n",
       "\\item 'snow'\n",
       "\\end{enumerate*}\n"
      ],
      "text/markdown": [
       "1. 'partly-cloudy'\n",
       "2. 'partly-cloudy'\n",
       "3. 'cloudy'\n",
       "4. 'wind'\n",
       "5. 'snow'\n",
       "6. 'cloudy'\n",
       "7. 'snow'\n",
       "8. 'rain'\n",
       "9. 'partly-cloudy'\n",
       "10. 'clear'\n",
       "11. 'cloudy'\n",
       "12. 'partly-cloudy'\n",
       "13. 'partly-cloudy'\n",
       "14. 'rain'\n",
       "15. 'rain'\n",
       "16. 'rain'\n",
       "17. 'wind'\n",
       "18. 'wind'\n",
       "19. 'snow'\n",
       "20. 'wind'\n",
       "21. 'partly-cloudy'\n",
       "22. 'clear'\n",
       "23. 'partly-cloudy'\n",
       "24. 'partly-cloudy'\n",
       "25. 'snow'\n",
       "26. 'partly-cloudy'\n",
       "27. 'snow'\n",
       "28. 'snow'\n",
       "29. 'clear'\n",
       "30. 'clear'\n",
       "31. 'rain'\n",
       "32. 'wind'\n",
       "33. 'cloudy'\n",
       "34. 'clear'\n",
       "35. 'clear'\n",
       "36. 'cloudy'\n",
       "37. 'cloudy'\n",
       "38. 'rain'\n",
       "39. 'rain'\n",
       "40. 'wind'\n",
       "41. 'wind'\n",
       "42. 'clear'\n",
       "43. 'wind'\n",
       "44. 'rain'\n",
       "45. 'partly-cloudy'\n",
       "46. 'snow'\n",
       "47. 'snow'\n",
       "48. 'snow'\n",
       "49. 'snow'\n",
       "50. 'cloudy'\n",
       "51. 'partly-cloudy'\n",
       "52. 'partly-cloudy'\n",
       "53. 'partly-cloudy'\n",
       "54. 'wind'\n",
       "55. 'snow'\n",
       "56. 'wind'\n",
       "57. 'wind'\n",
       "58. 'clear'\n",
       "59. 'clear'\n",
       "60. 'clear'\n",
       "61. 'partly-cloudy'\n",
       "62. 'wind'\n",
       "63. 'clear'\n",
       "64. 'rain'\n",
       "65. 'cloudy'\n",
       "66. 'snow'\n",
       "67. 'clear'\n",
       "68. 'wind'\n",
       "69. 'clear'\n",
       "70. 'partly-cloudy'\n",
       "71. 'partly-cloudy'\n",
       "72. 'partly-cloudy'\n",
       "73. 'partly-cloudy'\n",
       "74. 'clear'\n",
       "75. 'cloudy'\n",
       "76. 'clear'\n",
       "77. 'clear'\n",
       "78. 'cloudy'\n",
       "79. 'partly-cloudy'\n",
       "80. 'rain'\n",
       "81. 'rain'\n",
       "82. 'partly-cloudy'\n",
       "83. 'rain'\n",
       "84. 'rain'\n",
       "85. 'rain'\n",
       "86. 'snow'\n",
       "87. 'snow'\n",
       "88. 'rain'\n",
       "89. 'cloudy'\n",
       "90. 'rain'\n",
       "91. 'wind'\n",
       "92. 'rain'\n",
       "93. 'cloudy'\n",
       "94. 'snow'\n",
       "95. 'partly-cloudy'\n",
       "96. 'cloudy'\n",
       "97. 'snow'\n",
       "98. 'partly-cloudy'\n",
       "99. 'partly-cloudy'\n",
       "100. 'snow'\n",
       "\n",
       "\n"
      ],
      "text/plain": [
       "  [1] \"partly-cloudy\" \"partly-cloudy\" \"cloudy\"        \"wind\"         \n",
       "  [5] \"snow\"          \"cloudy\"        \"snow\"          \"rain\"         \n",
       "  [9] \"partly-cloudy\" \"clear\"         \"cloudy\"        \"partly-cloudy\"\n",
       " [13] \"partly-cloudy\" \"rain\"          \"rain\"          \"rain\"         \n",
       " [17] \"wind\"          \"wind\"          \"snow\"          \"wind\"         \n",
       " [21] \"partly-cloudy\" \"clear\"         \"partly-cloudy\" \"partly-cloudy\"\n",
       " [25] \"snow\"          \"partly-cloudy\" \"snow\"          \"snow\"         \n",
       " [29] \"clear\"         \"clear\"         \"rain\"          \"wind\"         \n",
       " [33] \"cloudy\"        \"clear\"         \"clear\"         \"cloudy\"       \n",
       " [37] \"cloudy\"        \"rain\"          \"rain\"          \"wind\"         \n",
       " [41] \"wind\"          \"clear\"         \"wind\"          \"rain\"         \n",
       " [45] \"partly-cloudy\" \"snow\"          \"snow\"          \"snow\"         \n",
       " [49] \"snow\"          \"cloudy\"        \"partly-cloudy\" \"partly-cloudy\"\n",
       " [53] \"partly-cloudy\" \"wind\"          \"snow\"          \"wind\"         \n",
       " [57] \"wind\"          \"clear\"         \"clear\"         \"clear\"        \n",
       " [61] \"partly-cloudy\" \"wind\"          \"clear\"         \"rain\"         \n",
       " [65] \"cloudy\"        \"snow\"          \"clear\"         \"wind\"         \n",
       " [69] \"clear\"         \"partly-cloudy\" \"partly-cloudy\" \"partly-cloudy\"\n",
       " [73] \"partly-cloudy\" \"clear\"         \"cloudy\"        \"clear\"        \n",
       " [77] \"clear\"         \"cloudy\"        \"partly-cloudy\" \"rain\"         \n",
       " [81] \"rain\"          \"partly-cloudy\" \"rain\"          \"rain\"         \n",
       " [85] \"rain\"          \"snow\"          \"snow\"          \"rain\"         \n",
       " [89] \"cloudy\"        \"rain\"          \"wind\"          \"rain\"         \n",
       " [93] \"cloudy\"        \"snow\"          \"partly-cloudy\" \"cloudy\"       \n",
       " [97] \"snow\"          \"partly-cloudy\" \"partly-cloudy\" \"snow\"         "
      ]
     },
     "metadata": {},
     "output_type": "display_data"
    },
    {
     "data": {
      "text/plain": [
       "simulation_results\n",
       "        clear        cloudy partly-cloudy          rain          snow \n",
       "           16            13            23            17            17 \n",
       "         wind \n",
       "           14 "
      ]
     },
     "metadata": {},
     "output_type": "display_data"
    },
    {
     "data": {
      "text/plain": [
       "simulation_results\n",
       "        clear        cloudy partly-cloudy          rain          snow \n",
       "         0.16          0.13          0.23          0.17          0.17 \n",
       "         wind \n",
       "         0.14 "
      ]
     },
     "metadata": {},
     "output_type": "display_data"
    }
   ],
   "source": [
    "# The sample function is a function used to perform or obtain a selection with or without replacement of a specified volume, \n",
    "# resulting in values or realizations of a random variable with a given or known probability distribution\n",
    "\n",
    "set.seed(123454)\n",
    "simulation_results <- sample(x = c(\"clear\", \"partly-cloudy\", \"rain\", \"cloudy\", \"snow\", \"wind\"),\n",
    "                             size = 100,\n",
    "                             replace = TRUE,\n",
    "                             prob = c(1/6, 1/6, 1/6, 1/6,1/6, 1/6))\n",
    "simulation_results\n",
    "\n",
    "# Absolute frequency distribution\n",
    "abs_freq_distrib <- table(simulation_results)\n",
    "abs_freq_distrib\n",
    "\n",
    "# Relative frequency distribution\n",
    "rel_freq_distrib <- table(simulation_results)/length(simulation_results)\n",
    "rel_freq_distrib "
   ]
  },
  {
   "cell_type": "markdown",
   "id": "ceaea18e",
   "metadata": {
    "papermill": {
     "duration": 0.010983,
     "end_time": "2023-11-22T20:53:19.159939",
     "exception": false,
     "start_time": "2023-11-22T20:53:19.148956",
     "status": "completed"
    },
    "tags": []
   },
   "source": [
    "<div style=\"border-radius: 40px;\n",
    "            color: #403b34;\n",
    "            background-color: #FCF9BE;\n",
    "            font-size: 100%;\n",
    "            text-align: left;\n",
    "            padding: 20px;\n",
    "            margin: 10px;\n",
    "            box-shadow: 0px 2px 4px rgba(0, 0, 0, 0.1);\">\n",
    "    <p style=\"margin-bottom: 10px; font-weight: bold;\">Output Analysis:</p>\n",
    "We observe that the relative frequencies differ greatly from the result of the stationary distribution. Therefore, we can increase the number of replications to observe that, with a very large number of them, the distribution of relative frequencies tends towards the stationary distribution. \n",
    "</div>"
   ]
  },
  {
   "cell_type": "markdown",
   "id": "7d7b525f",
   "metadata": {
    "papermill": {
     "duration": 0.010973,
     "end_time": "2023-11-22T20:53:19.182019",
     "exception": false,
     "start_time": "2023-11-22T20:53:19.171046",
     "status": "completed"
    },
    "tags": []
   },
   "source": [
    "Using the Markov and replicate functions, we replicate 10 000 trajectories."
   ]
  },
  {
   "cell_type": "code",
   "execution_count": 10,
   "id": "782ebadb",
   "metadata": {
    "execution": {
     "iopub.execute_input": "2023-11-22T20:53:19.207966Z",
     "iopub.status.busy": "2023-11-22T20:53:19.206473Z",
     "iopub.status.idle": "2023-11-22T20:53:34.467118Z",
     "shell.execute_reply": "2023-11-22T20:53:34.464882Z"
    },
    "papermill": {
     "duration": 15.277351,
     "end_time": "2023-11-22T20:53:34.470590",
     "exception": false,
     "start_time": "2023-11-22T20:53:19.193239",
     "status": "completed"
    },
    "tags": []
   },
   "outputs": [
    {
     "data": {
      "text/html": [
       "<style>\n",
       ".list-inline {list-style: none; margin:0; padding: 0}\n",
       ".list-inline>li {display: inline-block}\n",
       ".list-inline>li:not(:last-child)::after {content: \"\\00b7\"; padding: 0 .5ex}\n",
       "</style>\n",
       "<ol class=list-inline><li>0.166666666666667</li><li>0.166666666666667</li><li>0.166666666666667</li><li>0.166666666666667</li><li>0.166666666666667</li><li>0.166666666666667</li></ol>\n"
      ],
      "text/latex": [
       "\\begin{enumerate*}\n",
       "\\item 0.166666666666667\n",
       "\\item 0.166666666666667\n",
       "\\item 0.166666666666667\n",
       "\\item 0.166666666666667\n",
       "\\item 0.166666666666667\n",
       "\\item 0.166666666666667\n",
       "\\end{enumerate*}\n"
      ],
      "text/markdown": [
       "1. 0.166666666666667\n",
       "2. 0.166666666666667\n",
       "3. 0.166666666666667\n",
       "4. 0.166666666666667\n",
       "5. 0.166666666666667\n",
       "6. 0.166666666666667\n",
       "\n",
       "\n"
      ],
      "text/plain": [
       "[1] 0.1666667 0.1666667 0.1666667 0.1666667 0.1666667 0.1666667"
      ]
     },
     "metadata": {},
     "output_type": "display_data"
    },
    {
     "data": {
      "text/html": [
       "<style>\n",
       ".dl-inline {width: auto; margin:0; padding: 0}\n",
       ".dl-inline>dt, .dl-inline>dd {float: none; width: auto; display: inline-block}\n",
       ".dl-inline>dt::after {content: \":\\0020\"; padding-right: .5ex}\n",
       ".dl-inline>dt:not(:first-of-type) {padding-left: .5ex}\n",
       "</style><dl class=dl-inline><dt>clear</dt><dd>0.166666666666667</dd><dt>partly-cloudy</dt><dd>0.166666666666667</dd><dt>rain</dt><dd>0.166666666666667</dd><dt>cloudy</dt><dd>0.166666666666667</dd><dt>snow</dt><dd>0.166666666666667</dd><dt>wind</dt><dd>0.166666666666667</dd></dl>\n"
      ],
      "text/latex": [
       "\\begin{description*}\n",
       "\\item[clear] 0.166666666666667\n",
       "\\item[partly-cloudy] 0.166666666666667\n",
       "\\item[rain] 0.166666666666667\n",
       "\\item[cloudy] 0.166666666666667\n",
       "\\item[snow] 0.166666666666667\n",
       "\\item[wind] 0.166666666666667\n",
       "\\end{description*}\n"
      ],
      "text/markdown": [
       "clear\n",
       ":   0.166666666666667partly-cloudy\n",
       ":   0.166666666666667rain\n",
       ":   0.166666666666667cloudy\n",
       ":   0.166666666666667snow\n",
       ":   0.166666666666667wind\n",
       ":   0.166666666666667\n",
       "\n"
      ],
      "text/plain": [
       "        clear partly-cloudy          rain        cloudy          snow \n",
       "    0.1666667     0.1666667     0.1666667     0.1666667     0.1666667 \n",
       "         wind \n",
       "    0.1666667 "
      ]
     },
     "metadata": {},
     "output_type": "display_data"
    },
    {
     "data": {
      "text/html": [
       "<table class=\"dataframe\">\n",
       "<caption>A matrix: 30 × 10000 of type chr</caption>\n",
       "<tbody>\n",
       "\t<tr><td>rain         </td><td>wind         </td><td>wind         </td><td>wind         </td><td>rain         </td><td>partly-cloudy</td><td>cloudy       </td><td>partly-cloudy</td><td>rain         </td><td>wind         </td><td>⋯</td><td>wind         </td><td>partly-cloudy</td><td>clear        </td><td>clear        </td><td>clear        </td><td>clear        </td><td>clear        </td><td>clear        </td><td>clear        </td><td>snow         </td></tr>\n",
       "\t<tr><td>rain         </td><td>wind         </td><td>wind         </td><td>wind         </td><td>rain         </td><td>partly-cloudy</td><td>partly-cloudy</td><td>partly-cloudy</td><td>rain         </td><td>wind         </td><td>⋯</td><td>wind         </td><td>partly-cloudy</td><td>partly-cloudy</td><td>cloudy       </td><td>clear        </td><td>clear        </td><td>cloudy       </td><td>clear        </td><td>clear        </td><td>clear        </td></tr>\n",
       "\t<tr><td>rain         </td><td>wind         </td><td>clear        </td><td>clear        </td><td>partly-cloudy</td><td>clear        </td><td>partly-cloudy</td><td>clear        </td><td>partly-cloudy</td><td>clear        </td><td>⋯</td><td>wind         </td><td>partly-cloudy</td><td>partly-cloudy</td><td>wind         </td><td>clear        </td><td>clear        </td><td>cloudy       </td><td>cloudy       </td><td>rain         </td><td>clear        </td></tr>\n",
       "\t<tr><td>partly-cloudy</td><td>wind         </td><td>clear        </td><td>cloudy       </td><td>clear        </td><td>partly-cloudy</td><td>clear        </td><td>clear        </td><td>partly-cloudy</td><td>clear        </td><td>⋯</td><td>clear        </td><td>partly-cloudy</td><td>partly-cloudy</td><td>wind         </td><td>cloudy       </td><td>clear        </td><td>cloudy       </td><td>partly-cloudy</td><td>rain         </td><td>partly-cloudy</td></tr>\n",
       "\t<tr><td>partly-cloudy</td><td>wind         </td><td>clear        </td><td>cloudy       </td><td>clear        </td><td>cloudy       </td><td>partly-cloudy</td><td>cloudy       </td><td>partly-cloudy</td><td>clear        </td><td>⋯</td><td>clear        </td><td>cloudy       </td><td>partly-cloudy</td><td>wind         </td><td>cloudy       </td><td>clear        </td><td>wind         </td><td>clear        </td><td>cloudy       </td><td>partly-cloudy</td></tr>\n",
       "\t<tr><td>partly-cloudy</td><td>clear        </td><td>rain         </td><td>cloudy       </td><td>wind         </td><td>cloudy       </td><td>clear        </td><td>partly-cloudy</td><td>partly-cloudy</td><td>partly-cloudy</td><td>⋯</td><td>clear        </td><td>cloudy       </td><td>partly-cloudy</td><td>clear        </td><td>cloudy       </td><td>clear        </td><td>wind         </td><td>cloudy       </td><td>wind         </td><td>partly-cloudy</td></tr>\n",
       "\t<tr><td>clear        </td><td>clear        </td><td>cloudy       </td><td>cloudy       </td><td>clear        </td><td>partly-cloudy</td><td>cloudy       </td><td>cloudy       </td><td>clear        </td><td>partly-cloudy</td><td>⋯</td><td>clear        </td><td>cloudy       </td><td>partly-cloudy</td><td>clear        </td><td>partly-cloudy</td><td>clear        </td><td>wind         </td><td>cloudy       </td><td>clear        </td><td>partly-cloudy</td></tr>\n",
       "\t<tr><td>clear        </td><td>cloudy       </td><td>cloudy       </td><td>partly-cloudy</td><td>rain         </td><td>partly-cloudy</td><td>partly-cloudy</td><td>cloudy       </td><td>clear        </td><td>partly-cloudy</td><td>⋯</td><td>cloudy       </td><td>partly-cloudy</td><td>clear        </td><td>wind         </td><td>partly-cloudy</td><td>rain         </td><td>clear        </td><td>clear        </td><td>partly-cloudy</td><td>partly-cloudy</td></tr>\n",
       "\t<tr><td>clear        </td><td>cloudy       </td><td>partly-cloudy</td><td>partly-cloudy</td><td>cloudy       </td><td>partly-cloudy</td><td>partly-cloudy</td><td>clear        </td><td>partly-cloudy</td><td>clear        </td><td>⋯</td><td>cloudy       </td><td>partly-cloudy</td><td>clear        </td><td>clear        </td><td>cloudy       </td><td>partly-cloudy</td><td>clear        </td><td>clear        </td><td>partly-cloudy</td><td>clear        </td></tr>\n",
       "\t<tr><td>clear        </td><td>cloudy       </td><td>clear        </td><td>partly-cloudy</td><td>cloudy       </td><td>partly-cloudy</td><td>clear        </td><td>wind         </td><td>cloudy       </td><td>cloudy       </td><td>⋯</td><td>cloudy       </td><td>partly-cloudy</td><td>clear        </td><td>clear        </td><td>partly-cloudy</td><td>clear        </td><td>clear        </td><td>clear        </td><td>clear        </td><td>clear        </td></tr>\n",
       "\t<tr><td>rain         </td><td>clear        </td><td>partly-cloudy</td><td>clear        </td><td>cloudy       </td><td>partly-cloudy</td><td>rain         </td><td>wind         </td><td>clear        </td><td>cloudy       </td><td>⋯</td><td>cloudy       </td><td>clear        </td><td>wind         </td><td>clear        </td><td>clear        </td><td>clear        </td><td>rain         </td><td>cloudy       </td><td>cloudy       </td><td>clear        </td></tr>\n",
       "\t<tr><td>partly-cloudy</td><td>clear        </td><td>clear        </td><td>clear        </td><td>cloudy       </td><td>clear        </td><td>rain         </td><td>clear        </td><td>clear        </td><td>cloudy       </td><td>⋯</td><td>cloudy       </td><td>partly-cloudy</td><td>clear        </td><td>clear        </td><td>clear        </td><td>clear        </td><td>cloudy       </td><td>partly-cloudy</td><td>cloudy       </td><td>cloudy       </td></tr>\n",
       "\t<tr><td>partly-cloudy</td><td>clear        </td><td>rain         </td><td>clear        </td><td>clear        </td><td>cloudy       </td><td>partly-cloudy</td><td>clear        </td><td>clear        </td><td>cloudy       </td><td>⋯</td><td>clear        </td><td>partly-cloudy</td><td>partly-cloudy</td><td>cloudy       </td><td>cloudy       </td><td>clear        </td><td>partly-cloudy</td><td>partly-cloudy</td><td>cloudy       </td><td>cloudy       </td></tr>\n",
       "\t<tr><td>partly-cloudy</td><td>clear        </td><td>rain         </td><td>rain         </td><td>cloudy       </td><td>cloudy       </td><td>clear        </td><td>clear        </td><td>cloudy       </td><td>partly-cloudy</td><td>⋯</td><td>clear        </td><td>partly-cloudy</td><td>partly-cloudy</td><td>partly-cloudy</td><td>cloudy       </td><td>partly-cloudy</td><td>clear        </td><td>partly-cloudy</td><td>cloudy       </td><td>partly-cloudy</td></tr>\n",
       "\t<tr><td>clear        </td><td>rain         </td><td>cloudy       </td><td>partly-cloudy</td><td>cloudy       </td><td>clear        </td><td>partly-cloudy</td><td>cloudy       </td><td>cloudy       </td><td>clear        </td><td>⋯</td><td>partly-cloudy</td><td>clear        </td><td>partly-cloudy</td><td>cloudy       </td><td>clear        </td><td>clear        </td><td>clear        </td><td>partly-cloudy</td><td>partly-cloudy</td><td>cloudy       </td></tr>\n",
       "\t<tr><td>cloudy       </td><td>cloudy       </td><td>cloudy       </td><td>clear        </td><td>cloudy       </td><td>cloudy       </td><td>clear        </td><td>cloudy       </td><td>cloudy       </td><td>partly-cloudy</td><td>⋯</td><td>partly-cloudy</td><td>cloudy       </td><td>clear        </td><td>cloudy       </td><td>rain         </td><td>clear        </td><td>clear        </td><td>partly-cloudy</td><td>partly-cloudy</td><td>partly-cloudy</td></tr>\n",
       "\t<tr><td>partly-cloudy</td><td>cloudy       </td><td>partly-cloudy</td><td>wind         </td><td>cloudy       </td><td>cloudy       </td><td>cloudy       </td><td>cloudy       </td><td>cloudy       </td><td>clear        </td><td>⋯</td><td>clear        </td><td>cloudy       </td><td>cloudy       </td><td>cloudy       </td><td>rain         </td><td>clear        </td><td>clear        </td><td>clear        </td><td>partly-cloudy</td><td>partly-cloudy</td></tr>\n",
       "\t<tr><td>clear        </td><td>cloudy       </td><td>cloudy       </td><td>wind         </td><td>cloudy       </td><td>clear        </td><td>partly-cloudy</td><td>snow         </td><td>cloudy       </td><td>cloudy       </td><td>⋯</td><td>partly-cloudy</td><td>cloudy       </td><td>partly-cloudy</td><td>cloudy       </td><td>rain         </td><td>clear        </td><td>clear        </td><td>cloudy       </td><td>cloudy       </td><td>partly-cloudy</td></tr>\n",
       "\t<tr><td>partly-cloudy</td><td>cloudy       </td><td>cloudy       </td><td>wind         </td><td>cloudy       </td><td>partly-cloudy</td><td>partly-cloudy</td><td>clear        </td><td>cloudy       </td><td>cloudy       </td><td>⋯</td><td>clear        </td><td>cloudy       </td><td>partly-cloudy</td><td>clear        </td><td>rain         </td><td>rain         </td><td>cloudy       </td><td>cloudy       </td><td>cloudy       </td><td>partly-cloudy</td></tr>\n",
       "\t<tr><td>partly-cloudy</td><td>cloudy       </td><td>cloudy       </td><td>clear        </td><td>cloudy       </td><td>partly-cloudy</td><td>partly-cloudy</td><td>partly-cloudy</td><td>cloudy       </td><td>partly-cloudy</td><td>⋯</td><td>wind         </td><td>cloudy       </td><td>partly-cloudy</td><td>rain         </td><td>cloudy       </td><td>partly-cloudy</td><td>cloudy       </td><td>cloudy       </td><td>partly-cloudy</td><td>partly-cloudy</td></tr>\n",
       "\t<tr><td>clear        </td><td>clear        </td><td>cloudy       </td><td>clear        </td><td>cloudy       </td><td>partly-cloudy</td><td>partly-cloudy</td><td>clear        </td><td>cloudy       </td><td>partly-cloudy</td><td>⋯</td><td>wind         </td><td>cloudy       </td><td>partly-cloudy</td><td>rain         </td><td>cloudy       </td><td>clear        </td><td>cloudy       </td><td>cloudy       </td><td>clear        </td><td>cloudy       </td></tr>\n",
       "\t<tr><td>clear        </td><td>clear        </td><td>cloudy       </td><td>clear        </td><td>cloudy       </td><td>clear        </td><td>partly-cloudy</td><td>cloudy       </td><td>partly-cloudy</td><td>partly-cloudy</td><td>⋯</td><td>clear        </td><td>cloudy       </td><td>clear        </td><td>rain         </td><td>cloudy       </td><td>clear        </td><td>clear        </td><td>cloudy       </td><td>clear        </td><td>cloudy       </td></tr>\n",
       "\t<tr><td>clear        </td><td>clear        </td><td>cloudy       </td><td>clear        </td><td>clear        </td><td>clear        </td><td>clear        </td><td>cloudy       </td><td>clear        </td><td>partly-cloudy</td><td>⋯</td><td>cloudy       </td><td>cloudy       </td><td>clear        </td><td>partly-cloudy</td><td>cloudy       </td><td>clear        </td><td>clear        </td><td>cloudy       </td><td>clear        </td><td>clear        </td></tr>\n",
       "\t<tr><td>clear        </td><td>cloudy       </td><td>cloudy       </td><td>partly-cloudy</td><td>clear        </td><td>cloudy       </td><td>partly-cloudy</td><td>cloudy       </td><td>partly-cloudy</td><td>clear        </td><td>⋯</td><td>wind         </td><td>wind         </td><td>rain         </td><td>rain         </td><td>cloudy       </td><td>clear        </td><td>rain         </td><td>cloudy       </td><td>cloudy       </td><td>rain         </td></tr>\n",
       "\t<tr><td>cloudy       </td><td>cloudy       </td><td>cloudy       </td><td>partly-cloudy</td><td>clear        </td><td>snow         </td><td>clear        </td><td>partly-cloudy</td><td>clear        </td><td>clear        </td><td>⋯</td><td>clear        </td><td>clear        </td><td>rain         </td><td>cloudy       </td><td>cloudy       </td><td>partly-cloudy</td><td>rain         </td><td>cloudy       </td><td>cloudy       </td><td>rain         </td></tr>\n",
       "\t<tr><td>partly-cloudy</td><td>cloudy       </td><td>partly-cloudy</td><td>clear        </td><td>cloudy       </td><td>clear        </td><td>cloudy       </td><td>clear        </td><td>cloudy       </td><td>clear        </td><td>⋯</td><td>clear        </td><td>clear        </td><td>rain         </td><td>cloudy       </td><td>cloudy       </td><td>clear        </td><td>partly-cloudy</td><td>cloudy       </td><td>cloudy       </td><td>cloudy       </td></tr>\n",
       "\t<tr><td>partly-cloudy</td><td>clear        </td><td>partly-cloudy</td><td>clear        </td><td>cloudy       </td><td>clear        </td><td>snow         </td><td>cloudy       </td><td>partly-cloudy</td><td>partly-cloudy</td><td>⋯</td><td>clear        </td><td>clear        </td><td>rain         </td><td>partly-cloudy</td><td>cloudy       </td><td>clear        </td><td>clear        </td><td>cloudy       </td><td>cloudy       </td><td>cloudy       </td></tr>\n",
       "\t<tr><td>partly-cloudy</td><td>cloudy       </td><td>partly-cloudy</td><td>clear        </td><td>clear        </td><td>clear        </td><td>clear        </td><td>cloudy       </td><td>clear        </td><td>partly-cloudy</td><td>⋯</td><td>clear        </td><td>clear        </td><td>cloudy       </td><td>partly-cloudy</td><td>cloudy       </td><td>clear        </td><td>partly-cloudy</td><td>partly-cloudy</td><td>cloudy       </td><td>clear        </td></tr>\n",
       "\t<tr><td>clear        </td><td>partly-cloudy</td><td>partly-cloudy</td><td>clear        </td><td>clear        </td><td>cloudy       </td><td>partly-cloudy</td><td>cloudy       </td><td>clear        </td><td>clear        </td><td>⋯</td><td>clear        </td><td>cloudy       </td><td>wind         </td><td>clear        </td><td>clear        </td><td>clear        </td><td>partly-cloudy</td><td>clear        </td><td>cloudy       </td><td>clear        </td></tr>\n",
       "\t<tr><td>clear        </td><td>partly-cloudy</td><td>partly-cloudy</td><td>rain         </td><td>clear        </td><td>partly-cloudy</td><td>cloudy       </td><td>clear        </td><td>cloudy       </td><td>clear        </td><td>⋯</td><td>clear        </td><td>cloudy       </td><td>wind         </td><td>clear        </td><td>rain         </td><td>rain         </td><td>partly-cloudy</td><td>clear        </td><td>clear        </td><td>partly-cloudy</td></tr>\n",
       "</tbody>\n",
       "</table>\n"
      ],
      "text/latex": [
       "A matrix: 30 × 10000 of type chr\n",
       "\\begin{tabular}{lllllllllllllllllllll}\n",
       "\t rain          & wind          & wind          & wind          & rain          & partly-cloudy & cloudy        & partly-cloudy & rain          & wind          & ⋯ & wind          & partly-cloudy & clear         & clear         & clear         & clear         & clear         & clear         & clear         & snow         \\\\\n",
       "\t rain          & wind          & wind          & wind          & rain          & partly-cloudy & partly-cloudy & partly-cloudy & rain          & wind          & ⋯ & wind          & partly-cloudy & partly-cloudy & cloudy        & clear         & clear         & cloudy        & clear         & clear         & clear        \\\\\n",
       "\t rain          & wind          & clear         & clear         & partly-cloudy & clear         & partly-cloudy & clear         & partly-cloudy & clear         & ⋯ & wind          & partly-cloudy & partly-cloudy & wind          & clear         & clear         & cloudy        & cloudy        & rain          & clear        \\\\\n",
       "\t partly-cloudy & wind          & clear         & cloudy        & clear         & partly-cloudy & clear         & clear         & partly-cloudy & clear         & ⋯ & clear         & partly-cloudy & partly-cloudy & wind          & cloudy        & clear         & cloudy        & partly-cloudy & rain          & partly-cloudy\\\\\n",
       "\t partly-cloudy & wind          & clear         & cloudy        & clear         & cloudy        & partly-cloudy & cloudy        & partly-cloudy & clear         & ⋯ & clear         & cloudy        & partly-cloudy & wind          & cloudy        & clear         & wind          & clear         & cloudy        & partly-cloudy\\\\\n",
       "\t partly-cloudy & clear         & rain          & cloudy        & wind          & cloudy        & clear         & partly-cloudy & partly-cloudy & partly-cloudy & ⋯ & clear         & cloudy        & partly-cloudy & clear         & cloudy        & clear         & wind          & cloudy        & wind          & partly-cloudy\\\\\n",
       "\t clear         & clear         & cloudy        & cloudy        & clear         & partly-cloudy & cloudy        & cloudy        & clear         & partly-cloudy & ⋯ & clear         & cloudy        & partly-cloudy & clear         & partly-cloudy & clear         & wind          & cloudy        & clear         & partly-cloudy\\\\\n",
       "\t clear         & cloudy        & cloudy        & partly-cloudy & rain          & partly-cloudy & partly-cloudy & cloudy        & clear         & partly-cloudy & ⋯ & cloudy        & partly-cloudy & clear         & wind          & partly-cloudy & rain          & clear         & clear         & partly-cloudy & partly-cloudy\\\\\n",
       "\t clear         & cloudy        & partly-cloudy & partly-cloudy & cloudy        & partly-cloudy & partly-cloudy & clear         & partly-cloudy & clear         & ⋯ & cloudy        & partly-cloudy & clear         & clear         & cloudy        & partly-cloudy & clear         & clear         & partly-cloudy & clear        \\\\\n",
       "\t clear         & cloudy        & clear         & partly-cloudy & cloudy        & partly-cloudy & clear         & wind          & cloudy        & cloudy        & ⋯ & cloudy        & partly-cloudy & clear         & clear         & partly-cloudy & clear         & clear         & clear         & clear         & clear        \\\\\n",
       "\t rain          & clear         & partly-cloudy & clear         & cloudy        & partly-cloudy & rain          & wind          & clear         & cloudy        & ⋯ & cloudy        & clear         & wind          & clear         & clear         & clear         & rain          & cloudy        & cloudy        & clear        \\\\\n",
       "\t partly-cloudy & clear         & clear         & clear         & cloudy        & clear         & rain          & clear         & clear         & cloudy        & ⋯ & cloudy        & partly-cloudy & clear         & clear         & clear         & clear         & cloudy        & partly-cloudy & cloudy        & cloudy       \\\\\n",
       "\t partly-cloudy & clear         & rain          & clear         & clear         & cloudy        & partly-cloudy & clear         & clear         & cloudy        & ⋯ & clear         & partly-cloudy & partly-cloudy & cloudy        & cloudy        & clear         & partly-cloudy & partly-cloudy & cloudy        & cloudy       \\\\\n",
       "\t partly-cloudy & clear         & rain          & rain          & cloudy        & cloudy        & clear         & clear         & cloudy        & partly-cloudy & ⋯ & clear         & partly-cloudy & partly-cloudy & partly-cloudy & cloudy        & partly-cloudy & clear         & partly-cloudy & cloudy        & partly-cloudy\\\\\n",
       "\t clear         & rain          & cloudy        & partly-cloudy & cloudy        & clear         & partly-cloudy & cloudy        & cloudy        & clear         & ⋯ & partly-cloudy & clear         & partly-cloudy & cloudy        & clear         & clear         & clear         & partly-cloudy & partly-cloudy & cloudy       \\\\\n",
       "\t cloudy        & cloudy        & cloudy        & clear         & cloudy        & cloudy        & clear         & cloudy        & cloudy        & partly-cloudy & ⋯ & partly-cloudy & cloudy        & clear         & cloudy        & rain          & clear         & clear         & partly-cloudy & partly-cloudy & partly-cloudy\\\\\n",
       "\t partly-cloudy & cloudy        & partly-cloudy & wind          & cloudy        & cloudy        & cloudy        & cloudy        & cloudy        & clear         & ⋯ & clear         & cloudy        & cloudy        & cloudy        & rain          & clear         & clear         & clear         & partly-cloudy & partly-cloudy\\\\\n",
       "\t clear         & cloudy        & cloudy        & wind          & cloudy        & clear         & partly-cloudy & snow          & cloudy        & cloudy        & ⋯ & partly-cloudy & cloudy        & partly-cloudy & cloudy        & rain          & clear         & clear         & cloudy        & cloudy        & partly-cloudy\\\\\n",
       "\t partly-cloudy & cloudy        & cloudy        & wind          & cloudy        & partly-cloudy & partly-cloudy & clear         & cloudy        & cloudy        & ⋯ & clear         & cloudy        & partly-cloudy & clear         & rain          & rain          & cloudy        & cloudy        & cloudy        & partly-cloudy\\\\\n",
       "\t partly-cloudy & cloudy        & cloudy        & clear         & cloudy        & partly-cloudy & partly-cloudy & partly-cloudy & cloudy        & partly-cloudy & ⋯ & wind          & cloudy        & partly-cloudy & rain          & cloudy        & partly-cloudy & cloudy        & cloudy        & partly-cloudy & partly-cloudy\\\\\n",
       "\t clear         & clear         & cloudy        & clear         & cloudy        & partly-cloudy & partly-cloudy & clear         & cloudy        & partly-cloudy & ⋯ & wind          & cloudy        & partly-cloudy & rain          & cloudy        & clear         & cloudy        & cloudy        & clear         & cloudy       \\\\\n",
       "\t clear         & clear         & cloudy        & clear         & cloudy        & clear         & partly-cloudy & cloudy        & partly-cloudy & partly-cloudy & ⋯ & clear         & cloudy        & clear         & rain          & cloudy        & clear         & clear         & cloudy        & clear         & cloudy       \\\\\n",
       "\t clear         & clear         & cloudy        & clear         & clear         & clear         & clear         & cloudy        & clear         & partly-cloudy & ⋯ & cloudy        & cloudy        & clear         & partly-cloudy & cloudy        & clear         & clear         & cloudy        & clear         & clear        \\\\\n",
       "\t clear         & cloudy        & cloudy        & partly-cloudy & clear         & cloudy        & partly-cloudy & cloudy        & partly-cloudy & clear         & ⋯ & wind          & wind          & rain          & rain          & cloudy        & clear         & rain          & cloudy        & cloudy        & rain         \\\\\n",
       "\t cloudy        & cloudy        & cloudy        & partly-cloudy & clear         & snow          & clear         & partly-cloudy & clear         & clear         & ⋯ & clear         & clear         & rain          & cloudy        & cloudy        & partly-cloudy & rain          & cloudy        & cloudy        & rain         \\\\\n",
       "\t partly-cloudy & cloudy        & partly-cloudy & clear         & cloudy        & clear         & cloudy        & clear         & cloudy        & clear         & ⋯ & clear         & clear         & rain          & cloudy        & cloudy        & clear         & partly-cloudy & cloudy        & cloudy        & cloudy       \\\\\n",
       "\t partly-cloudy & clear         & partly-cloudy & clear         & cloudy        & clear         & snow          & cloudy        & partly-cloudy & partly-cloudy & ⋯ & clear         & clear         & rain          & partly-cloudy & cloudy        & clear         & clear         & cloudy        & cloudy        & cloudy       \\\\\n",
       "\t partly-cloudy & cloudy        & partly-cloudy & clear         & clear         & clear         & clear         & cloudy        & clear         & partly-cloudy & ⋯ & clear         & clear         & cloudy        & partly-cloudy & cloudy        & clear         & partly-cloudy & partly-cloudy & cloudy        & clear        \\\\\n",
       "\t clear         & partly-cloudy & partly-cloudy & clear         & clear         & cloudy        & partly-cloudy & cloudy        & clear         & clear         & ⋯ & clear         & cloudy        & wind          & clear         & clear         & clear         & partly-cloudy & clear         & cloudy        & clear        \\\\\n",
       "\t clear         & partly-cloudy & partly-cloudy & rain          & clear         & partly-cloudy & cloudy        & clear         & cloudy        & clear         & ⋯ & clear         & cloudy        & wind          & clear         & rain          & rain          & partly-cloudy & clear         & clear         & partly-cloudy\\\\\n",
       "\\end{tabular}\n"
      ],
      "text/markdown": [
       "\n",
       "A matrix: 30 × 10000 of type chr\n",
       "\n",
       "| rain          | wind          | wind          | wind          | rain          | partly-cloudy | cloudy        | partly-cloudy | rain          | wind          | ⋯ | wind          | partly-cloudy | clear         | clear         | clear         | clear         | clear         | clear         | clear         | snow          |\n",
       "| rain          | wind          | wind          | wind          | rain          | partly-cloudy | partly-cloudy | partly-cloudy | rain          | wind          | ⋯ | wind          | partly-cloudy | partly-cloudy | cloudy        | clear         | clear         | cloudy        | clear         | clear         | clear         |\n",
       "| rain          | wind          | clear         | clear         | partly-cloudy | clear         | partly-cloudy | clear         | partly-cloudy | clear         | ⋯ | wind          | partly-cloudy | partly-cloudy | wind          | clear         | clear         | cloudy        | cloudy        | rain          | clear         |\n",
       "| partly-cloudy | wind          | clear         | cloudy        | clear         | partly-cloudy | clear         | clear         | partly-cloudy | clear         | ⋯ | clear         | partly-cloudy | partly-cloudy | wind          | cloudy        | clear         | cloudy        | partly-cloudy | rain          | partly-cloudy |\n",
       "| partly-cloudy | wind          | clear         | cloudy        | clear         | cloudy        | partly-cloudy | cloudy        | partly-cloudy | clear         | ⋯ | clear         | cloudy        | partly-cloudy | wind          | cloudy        | clear         | wind          | clear         | cloudy        | partly-cloudy |\n",
       "| partly-cloudy | clear         | rain          | cloudy        | wind          | cloudy        | clear         | partly-cloudy | partly-cloudy | partly-cloudy | ⋯ | clear         | cloudy        | partly-cloudy | clear         | cloudy        | clear         | wind          | cloudy        | wind          | partly-cloudy |\n",
       "| clear         | clear         | cloudy        | cloudy        | clear         | partly-cloudy | cloudy        | cloudy        | clear         | partly-cloudy | ⋯ | clear         | cloudy        | partly-cloudy | clear         | partly-cloudy | clear         | wind          | cloudy        | clear         | partly-cloudy |\n",
       "| clear         | cloudy        | cloudy        | partly-cloudy | rain          | partly-cloudy | partly-cloudy | cloudy        | clear         | partly-cloudy | ⋯ | cloudy        | partly-cloudy | clear         | wind          | partly-cloudy | rain          | clear         | clear         | partly-cloudy | partly-cloudy |\n",
       "| clear         | cloudy        | partly-cloudy | partly-cloudy | cloudy        | partly-cloudy | partly-cloudy | clear         | partly-cloudy | clear         | ⋯ | cloudy        | partly-cloudy | clear         | clear         | cloudy        | partly-cloudy | clear         | clear         | partly-cloudy | clear         |\n",
       "| clear         | cloudy        | clear         | partly-cloudy | cloudy        | partly-cloudy | clear         | wind          | cloudy        | cloudy        | ⋯ | cloudy        | partly-cloudy | clear         | clear         | partly-cloudy | clear         | clear         | clear         | clear         | clear         |\n",
       "| rain          | clear         | partly-cloudy | clear         | cloudy        | partly-cloudy | rain          | wind          | clear         | cloudy        | ⋯ | cloudy        | clear         | wind          | clear         | clear         | clear         | rain          | cloudy        | cloudy        | clear         |\n",
       "| partly-cloudy | clear         | clear         | clear         | cloudy        | clear         | rain          | clear         | clear         | cloudy        | ⋯ | cloudy        | partly-cloudy | clear         | clear         | clear         | clear         | cloudy        | partly-cloudy | cloudy        | cloudy        |\n",
       "| partly-cloudy | clear         | rain          | clear         | clear         | cloudy        | partly-cloudy | clear         | clear         | cloudy        | ⋯ | clear         | partly-cloudy | partly-cloudy | cloudy        | cloudy        | clear         | partly-cloudy | partly-cloudy | cloudy        | cloudy        |\n",
       "| partly-cloudy | clear         | rain          | rain          | cloudy        | cloudy        | clear         | clear         | cloudy        | partly-cloudy | ⋯ | clear         | partly-cloudy | partly-cloudy | partly-cloudy | cloudy        | partly-cloudy | clear         | partly-cloudy | cloudy        | partly-cloudy |\n",
       "| clear         | rain          | cloudy        | partly-cloudy | cloudy        | clear         | partly-cloudy | cloudy        | cloudy        | clear         | ⋯ | partly-cloudy | clear         | partly-cloudy | cloudy        | clear         | clear         | clear         | partly-cloudy | partly-cloudy | cloudy        |\n",
       "| cloudy        | cloudy        | cloudy        | clear         | cloudy        | cloudy        | clear         | cloudy        | cloudy        | partly-cloudy | ⋯ | partly-cloudy | cloudy        | clear         | cloudy        | rain          | clear         | clear         | partly-cloudy | partly-cloudy | partly-cloudy |\n",
       "| partly-cloudy | cloudy        | partly-cloudy | wind          | cloudy        | cloudy        | cloudy        | cloudy        | cloudy        | clear         | ⋯ | clear         | cloudy        | cloudy        | cloudy        | rain          | clear         | clear         | clear         | partly-cloudy | partly-cloudy |\n",
       "| clear         | cloudy        | cloudy        | wind          | cloudy        | clear         | partly-cloudy | snow          | cloudy        | cloudy        | ⋯ | partly-cloudy | cloudy        | partly-cloudy | cloudy        | rain          | clear         | clear         | cloudy        | cloudy        | partly-cloudy |\n",
       "| partly-cloudy | cloudy        | cloudy        | wind          | cloudy        | partly-cloudy | partly-cloudy | clear         | cloudy        | cloudy        | ⋯ | clear         | cloudy        | partly-cloudy | clear         | rain          | rain          | cloudy        | cloudy        | cloudy        | partly-cloudy |\n",
       "| partly-cloudy | cloudy        | cloudy        | clear         | cloudy        | partly-cloudy | partly-cloudy | partly-cloudy | cloudy        | partly-cloudy | ⋯ | wind          | cloudy        | partly-cloudy | rain          | cloudy        | partly-cloudy | cloudy        | cloudy        | partly-cloudy | partly-cloudy |\n",
       "| clear         | clear         | cloudy        | clear         | cloudy        | partly-cloudy | partly-cloudy | clear         | cloudy        | partly-cloudy | ⋯ | wind          | cloudy        | partly-cloudy | rain          | cloudy        | clear         | cloudy        | cloudy        | clear         | cloudy        |\n",
       "| clear         | clear         | cloudy        | clear         | cloudy        | clear         | partly-cloudy | cloudy        | partly-cloudy | partly-cloudy | ⋯ | clear         | cloudy        | clear         | rain          | cloudy        | clear         | clear         | cloudy        | clear         | cloudy        |\n",
       "| clear         | clear         | cloudy        | clear         | clear         | clear         | clear         | cloudy        | clear         | partly-cloudy | ⋯ | cloudy        | cloudy        | clear         | partly-cloudy | cloudy        | clear         | clear         | cloudy        | clear         | clear         |\n",
       "| clear         | cloudy        | cloudy        | partly-cloudy | clear         | cloudy        | partly-cloudy | cloudy        | partly-cloudy | clear         | ⋯ | wind          | wind          | rain          | rain          | cloudy        | clear         | rain          | cloudy        | cloudy        | rain          |\n",
       "| cloudy        | cloudy        | cloudy        | partly-cloudy | clear         | snow          | clear         | partly-cloudy | clear         | clear         | ⋯ | clear         | clear         | rain          | cloudy        | cloudy        | partly-cloudy | rain          | cloudy        | cloudy        | rain          |\n",
       "| partly-cloudy | cloudy        | partly-cloudy | clear         | cloudy        | clear         | cloudy        | clear         | cloudy        | clear         | ⋯ | clear         | clear         | rain          | cloudy        | cloudy        | clear         | partly-cloudy | cloudy        | cloudy        | cloudy        |\n",
       "| partly-cloudy | clear         | partly-cloudy | clear         | cloudy        | clear         | snow          | cloudy        | partly-cloudy | partly-cloudy | ⋯ | clear         | clear         | rain          | partly-cloudy | cloudy        | clear         | clear         | cloudy        | cloudy        | cloudy        |\n",
       "| partly-cloudy | cloudy        | partly-cloudy | clear         | clear         | clear         | clear         | cloudy        | clear         | partly-cloudy | ⋯ | clear         | clear         | cloudy        | partly-cloudy | cloudy        | clear         | partly-cloudy | partly-cloudy | cloudy        | clear         |\n",
       "| clear         | partly-cloudy | partly-cloudy | clear         | clear         | cloudy        | partly-cloudy | cloudy        | clear         | clear         | ⋯ | clear         | cloudy        | wind          | clear         | clear         | clear         | partly-cloudy | clear         | cloudy        | clear         |\n",
       "| clear         | partly-cloudy | partly-cloudy | rain          | clear         | partly-cloudy | cloudy        | clear         | cloudy        | clear         | ⋯ | clear         | cloudy        | wind          | clear         | rain          | rain          | partly-cloudy | clear         | clear         | partly-cloudy |\n",
       "\n"
      ],
      "text/plain": [
       "      [,1]          [,2]          [,3]          [,4]          [,5]         \n",
       " [1,] rain          wind          wind          wind          rain         \n",
       " [2,] rain          wind          wind          wind          rain         \n",
       " [3,] rain          wind          clear         clear         partly-cloudy\n",
       " [4,] partly-cloudy wind          clear         cloudy        clear        \n",
       " [5,] partly-cloudy wind          clear         cloudy        clear        \n",
       " [6,] partly-cloudy clear         rain          cloudy        wind         \n",
       " [7,] clear         clear         cloudy        cloudy        clear        \n",
       " [8,] clear         cloudy        cloudy        partly-cloudy rain         \n",
       " [9,] clear         cloudy        partly-cloudy partly-cloudy cloudy       \n",
       "[10,] clear         cloudy        clear         partly-cloudy cloudy       \n",
       "[11,] rain          clear         partly-cloudy clear         cloudy       \n",
       "[12,] partly-cloudy clear         clear         clear         cloudy       \n",
       "[13,] partly-cloudy clear         rain          clear         clear        \n",
       "[14,] partly-cloudy clear         rain          rain          cloudy       \n",
       "[15,] clear         rain          cloudy        partly-cloudy cloudy       \n",
       "[16,] cloudy        cloudy        cloudy        clear         cloudy       \n",
       "[17,] partly-cloudy cloudy        partly-cloudy wind          cloudy       \n",
       "[18,] clear         cloudy        cloudy        wind          cloudy       \n",
       "[19,] partly-cloudy cloudy        cloudy        wind          cloudy       \n",
       "[20,] partly-cloudy cloudy        cloudy        clear         cloudy       \n",
       "[21,] clear         clear         cloudy        clear         cloudy       \n",
       "[22,] clear         clear         cloudy        clear         cloudy       \n",
       "[23,] clear         clear         cloudy        clear         clear        \n",
       "[24,] clear         cloudy        cloudy        partly-cloudy clear        \n",
       "[25,] cloudy        cloudy        cloudy        partly-cloudy clear        \n",
       "[26,] partly-cloudy cloudy        partly-cloudy clear         cloudy       \n",
       "[27,] partly-cloudy clear         partly-cloudy clear         cloudy       \n",
       "[28,] partly-cloudy cloudy        partly-cloudy clear         clear        \n",
       "[29,] clear         partly-cloudy partly-cloudy clear         clear        \n",
       "[30,] clear         partly-cloudy partly-cloudy rain          clear        \n",
       "      [,6]          [,7]          [,8]          [,9]          [,10]        \n",
       " [1,] partly-cloudy cloudy        partly-cloudy rain          wind         \n",
       " [2,] partly-cloudy partly-cloudy partly-cloudy rain          wind         \n",
       " [3,] clear         partly-cloudy clear         partly-cloudy clear        \n",
       " [4,] partly-cloudy clear         clear         partly-cloudy clear        \n",
       " [5,] cloudy        partly-cloudy cloudy        partly-cloudy clear        \n",
       " [6,] cloudy        clear         partly-cloudy partly-cloudy partly-cloudy\n",
       " [7,] partly-cloudy cloudy        cloudy        clear         partly-cloudy\n",
       " [8,] partly-cloudy partly-cloudy cloudy        clear         partly-cloudy\n",
       " [9,] partly-cloudy partly-cloudy clear         partly-cloudy clear        \n",
       "[10,] partly-cloudy clear         wind          cloudy        cloudy       \n",
       "[11,] partly-cloudy rain          wind          clear         cloudy       \n",
       "[12,] clear         rain          clear         clear         cloudy       \n",
       "[13,] cloudy        partly-cloudy clear         clear         cloudy       \n",
       "[14,] cloudy        clear         clear         cloudy        partly-cloudy\n",
       "[15,] clear         partly-cloudy cloudy        cloudy        clear        \n",
       "[16,] cloudy        clear         cloudy        cloudy        partly-cloudy\n",
       "[17,] cloudy        cloudy        cloudy        cloudy        clear        \n",
       "[18,] clear         partly-cloudy snow          cloudy        cloudy       \n",
       "[19,] partly-cloudy partly-cloudy clear         cloudy        cloudy       \n",
       "[20,] partly-cloudy partly-cloudy partly-cloudy cloudy        partly-cloudy\n",
       "[21,] partly-cloudy partly-cloudy clear         cloudy        partly-cloudy\n",
       "[22,] clear         partly-cloudy cloudy        partly-cloudy partly-cloudy\n",
       "[23,] clear         clear         cloudy        clear         partly-cloudy\n",
       "[24,] cloudy        partly-cloudy cloudy        partly-cloudy clear        \n",
       "[25,] snow          clear         partly-cloudy clear         clear        \n",
       "[26,] clear         cloudy        clear         cloudy        clear        \n",
       "[27,] clear         snow          cloudy        partly-cloudy partly-cloudy\n",
       "[28,] clear         clear         cloudy        clear         partly-cloudy\n",
       "[29,] cloudy        partly-cloudy cloudy        clear         clear        \n",
       "[30,] partly-cloudy cloudy        clear         cloudy        clear        \n",
       "      [,11] [,12]         [,13]         [,14]         [,15]        \n",
       " [1,] ⋯     wind          partly-cloudy clear         clear        \n",
       " [2,] ⋯     wind          partly-cloudy partly-cloudy cloudy       \n",
       " [3,] ⋯     wind          partly-cloudy partly-cloudy wind         \n",
       " [4,] ⋯     clear         partly-cloudy partly-cloudy wind         \n",
       " [5,] ⋯     clear         cloudy        partly-cloudy wind         \n",
       " [6,] ⋯     clear         cloudy        partly-cloudy clear        \n",
       " [7,] ⋯     clear         cloudy        partly-cloudy clear        \n",
       " [8,] ⋯     cloudy        partly-cloudy clear         wind         \n",
       " [9,] ⋯     cloudy        partly-cloudy clear         clear        \n",
       "[10,] ⋯     cloudy        partly-cloudy clear         clear        \n",
       "[11,] ⋯     cloudy        clear         wind          clear        \n",
       "[12,] ⋯     cloudy        partly-cloudy clear         clear        \n",
       "[13,] ⋯     clear         partly-cloudy partly-cloudy cloudy       \n",
       "[14,] ⋯     clear         partly-cloudy partly-cloudy partly-cloudy\n",
       "[15,] ⋯     partly-cloudy clear         partly-cloudy cloudy       \n",
       "[16,] ⋯     partly-cloudy cloudy        clear         cloudy       \n",
       "[17,] ⋯     clear         cloudy        cloudy        cloudy       \n",
       "[18,] ⋯     partly-cloudy cloudy        partly-cloudy cloudy       \n",
       "[19,] ⋯     clear         cloudy        partly-cloudy clear        \n",
       "[20,] ⋯     wind          cloudy        partly-cloudy rain         \n",
       "[21,] ⋯     wind          cloudy        partly-cloudy rain         \n",
       "[22,] ⋯     clear         cloudy        clear         rain         \n",
       "[23,] ⋯     cloudy        cloudy        clear         partly-cloudy\n",
       "[24,] ⋯     wind          wind          rain          rain         \n",
       "[25,] ⋯     clear         clear         rain          cloudy       \n",
       "[26,] ⋯     clear         clear         rain          cloudy       \n",
       "[27,] ⋯     clear         clear         rain          partly-cloudy\n",
       "[28,] ⋯     clear         clear         cloudy        partly-cloudy\n",
       "[29,] ⋯     clear         cloudy        wind          clear        \n",
       "[30,] ⋯     clear         cloudy        wind          clear        \n",
       "      [,16]         [,17]         [,18]         [,19]         [,20]        \n",
       " [1,] clear         clear         clear         clear         clear        \n",
       " [2,] clear         clear         cloudy        clear         clear        \n",
       " [3,] clear         clear         cloudy        cloudy        rain         \n",
       " [4,] cloudy        clear         cloudy        partly-cloudy rain         \n",
       " [5,] cloudy        clear         wind          clear         cloudy       \n",
       " [6,] cloudy        clear         wind          cloudy        wind         \n",
       " [7,] partly-cloudy clear         wind          cloudy        clear        \n",
       " [8,] partly-cloudy rain          clear         clear         partly-cloudy\n",
       " [9,] cloudy        partly-cloudy clear         clear         partly-cloudy\n",
       "[10,] partly-cloudy clear         clear         clear         clear        \n",
       "[11,] clear         clear         rain          cloudy        cloudy       \n",
       "[12,] clear         clear         cloudy        partly-cloudy cloudy       \n",
       "[13,] cloudy        clear         partly-cloudy partly-cloudy cloudy       \n",
       "[14,] cloudy        partly-cloudy clear         partly-cloudy cloudy       \n",
       "[15,] clear         clear         clear         partly-cloudy partly-cloudy\n",
       "[16,] rain          clear         clear         partly-cloudy partly-cloudy\n",
       "[17,] rain          clear         clear         clear         partly-cloudy\n",
       "[18,] rain          clear         clear         cloudy        cloudy       \n",
       "[19,] rain          rain          cloudy        cloudy        cloudy       \n",
       "[20,] cloudy        partly-cloudy cloudy        cloudy        partly-cloudy\n",
       "[21,] cloudy        clear         cloudy        cloudy        clear        \n",
       "[22,] cloudy        clear         clear         cloudy        clear        \n",
       "[23,] cloudy        clear         clear         cloudy        clear        \n",
       "[24,] cloudy        clear         rain          cloudy        cloudy       \n",
       "[25,] cloudy        partly-cloudy rain          cloudy        cloudy       \n",
       "[26,] cloudy        clear         partly-cloudy cloudy        cloudy       \n",
       "[27,] cloudy        clear         clear         cloudy        cloudy       \n",
       "[28,] cloudy        clear         partly-cloudy partly-cloudy cloudy       \n",
       "[29,] clear         clear         partly-cloudy clear         cloudy       \n",
       "[30,] rain          rain          partly-cloudy clear         clear        \n",
       "      [,21]        \n",
       " [1,] snow         \n",
       " [2,] clear        \n",
       " [3,] clear        \n",
       " [4,] partly-cloudy\n",
       " [5,] partly-cloudy\n",
       " [6,] partly-cloudy\n",
       " [7,] partly-cloudy\n",
       " [8,] partly-cloudy\n",
       " [9,] clear        \n",
       "[10,] clear        \n",
       "[11,] clear        \n",
       "[12,] cloudy       \n",
       "[13,] cloudy       \n",
       "[14,] partly-cloudy\n",
       "[15,] cloudy       \n",
       "[16,] partly-cloudy\n",
       "[17,] partly-cloudy\n",
       "[18,] partly-cloudy\n",
       "[19,] partly-cloudy\n",
       "[20,] partly-cloudy\n",
       "[21,] cloudy       \n",
       "[22,] cloudy       \n",
       "[23,] clear        \n",
       "[24,] rain         \n",
       "[25,] rain         \n",
       "[26,] cloudy       \n",
       "[27,] cloudy       \n",
       "[28,] clear        \n",
       "[29,] clear        \n",
       "[30,] partly-cloudy"
      ]
     },
     "metadata": {},
     "output_type": "display_data"
    },
    {
     "data": {
      "text/plain": [
       "replicate_sim\n",
       "        clear        cloudy partly-cloudy          rain          snow \n",
       "       348220        257610        291553         64380         10477 \n",
       "         wind \n",
       "        37760 "
      ]
     },
     "metadata": {},
     "output_type": "display_data"
    },
    {
     "data": {
      "text/plain": [
       "replicate_sim\n",
       "        clear        cloudy partly-cloudy          rain          snow \n",
       "   0.34477228    0.25505941    0.28866634    0.06374257    0.01037327 \n",
       "         wind \n",
       "   0.03738614 "
      ]
     },
     "metadata": {},
     "output_type": "display_data"
    }
   ],
   "source": [
    "\n",
    "# We introduce the vector with the initial probability distribution::\n",
    "initial <- c(1/6, 1/6, 1/6, 1/6, 1/6, 1/6) \n",
    "initial\n",
    "\n",
    "# We assign the initial probability vector the labels of the states:\n",
    "names(initial) <- states\n",
    "initial\n",
    "\n",
    "markov <- function(init, matrix, n, labels) {\n",
    "  if (missing(labels)) labels <- 1:length(init)\n",
    "  # construct a vector named simlist with n+1 elements, initialized with all elements as 0\n",
    "  # the function numeric(integer) creates a vector of length (integer) with all elements as 0\n",
    "  simlist <- numeric(n+1) \n",
    "  # the states are labeled as 1, 2, ..., k, where k is the number of states in the chain\n",
    "  # the states of the chain are the labels\n",
    "  states <- 1:length(init) \n",
    "  # the first element of the simlist vector is a realization or simulation of a single state\n",
    "  # from the distribution X0 = the initial distribution of the chain\n",
    "  simlist[1] <- sample(states,\n",
    "                       1,\n",
    "                       replace = TRUE,\n",
    "                       prob = init)\n",
    "  # the other elements of the simlist vector: simlist[2], ..., simlist[n+1]\n",
    "  # represent each a realization or simulation\n",
    "  # from the probability distribution given by the simlist[i-1] row of the matrix P\n",
    "  for (i in 2:(n+1)) \n",
    "  { simlist[i] <- sample(states,\n",
    "                       1,\n",
    "                       replace = TRUE,\n",
    "                       prob = matrix[simlist[i-1],]) }\n",
    "  # attach the states corresponding to the elements of the simlist vector:\n",
    "  labels[simlist] \n",
    "}\n",
    "\n",
    "# replicate() is a function used to repeat a certain action a specified number of times\n",
    "\n",
    "# replicate the previously defined Markov function 10000 times:\n",
    "replicate_sim <- replicate(10000,\n",
    "                       markov(initial, P, 100, states))\n",
    "head(replicate_sim,30)\n",
    "\n",
    "# sreplicated_sim represents the simulation of 10000 Markov chains which represents the trajectories\n",
    "# of 10000 paths, from the initial moment 0, up to 100 days ahead;\n",
    "# the trajectories are found in each of the 100 columns\n",
    "\n",
    "# Absolute frequency distribution\n",
    "distr_abs_freq_2 <- table(replicate_sim)\n",
    "distr_abs_freq_2\n",
    "\n",
    "# Relative frequency distribution:\n",
    "rel_freq_distrib_2 <- table(replicate_sim)/length(replicate_sim)\n",
    "rel_freq_distrib_2\n"
   ]
  },
  {
   "cell_type": "markdown",
   "id": "21e71d1b",
   "metadata": {
    "papermill": {
     "duration": 0.011797,
     "end_time": "2023-11-22T20:53:34.495306",
     "exception": false,
     "start_time": "2023-11-22T20:53:34.483509",
     "status": "completed"
    },
    "tags": []
   },
   "source": [
    "<div style=\"border-radius: 40px;\n",
    "            color: #403b34;\n",
    "            background-color: #FCF9BE;\n",
    "            font-size: 100%;\n",
    "            text-align: left;\n",
    "            padding: 20px;\n",
    "            margin: 10px;\n",
    "            box-shadow: 0px 2px 4px rgba(0, 0, 0, 0.1);\">\n",
    "    <p style=\"margin-bottom: 10px; font-weight: bold;\">Output Analysis:</p>\n",
    "We note that the results are very similar, and of course, with an even greater number of steps, they will tend to be perfectly equal.\n",
    "</div>"
   ]
  },
  {
   "attachments": {
    "0842e72f-43dd-48b7-9add-3ece752e7c68.png": {
     "image/png": "[encoded data removed]"
    }
   },
   "cell_type": "markdown",
   "id": "0c8495da",
   "metadata": {
    "papermill": {
     "duration": 0.0118,
     "end_time": "2023-11-22T20:53:34.519020",
     "exception": false,
     "start_time": "2023-11-22T20:53:34.507220",
     "status": "completed"
    },
    "tags": []
   },
   "source": [
    "\n",
    "![image.png](attachment:0842e72f-43dd-48b7-9add-3ece752e7c68.png)"
   ]
  },
  {
   "cell_type": "markdown",
   "id": "70ec5ac5",
   "metadata": {
    "papermill": {
     "duration": 0.011751,
     "end_time": "2023-11-22T20:53:34.542678",
     "exception": false,
     "start_time": "2023-11-22T20:53:34.530927",
     "status": "completed"
    },
    "tags": []
   },
   "source": [
    "<a id=\"10\"></a>\n",
    "<p style=\"background-color:#9ADCFF;font-family:newtimeroman;color:#f5f5f5;font-size:150%;text-align:center;border-radius:10px 10px;\">Average Turnaround Time</p>"
   ]
  },
  {
   "attachments": {
    "a725d2e2-b165-4c66-9ac3-5558f73f6071.png": {
     "image/png": "[encoded data removed]"
    }
   },
   "cell_type": "markdown",
   "id": "29d51d9b",
   "metadata": {
    "papermill": {
     "duration": 0.01118,
     "end_time": "2023-11-22T20:53:34.566905",
     "exception": false,
     "start_time": "2023-11-22T20:53:34.555725",
     "status": "completed"
    },
    "tags": []
   },
   "source": [
    "For our irreducible Markov chain, we will calculate the average return time to the state from which it started, which is the average number of transitions or steps in which the chain revisits a certain state.\n",
    "\n",
    "For these calculations, use the formula: \n",
    "\n",
    "![image.png](attachment:a725d2e2-b165-4c66-9ac3-5558f73f6071.png) \n",
    "\n",
    "where:\n",
    "* μj is the average return time in state j\n",
    "\n",
    "* π is the unique stationary distribution"
   ]
  },
  {
   "attachments": {
    "1ac65edc-a756-4468-9435-16c21178cb08.png": {
     "image/png": "[encoded data removed]"
    }
   },
   "cell_type": "markdown",
   "id": "4d6c893a",
   "metadata": {
    "papermill": {
     "duration": 0.01128,
     "end_time": "2023-11-22T20:53:34.589638",
     "exception": false,
     "start_time": "2023-11-22T20:53:34.578358",
     "status": "completed"
    },
    "tags": []
   },
   "source": [
    "![image.png](attachment:1ac65edc-a756-4468-9435-16c21178cb08.png)"
   ]
  }
 ],
 "metadata": {
  "kaggle": {
   "accelerator": "none",
   "dataSources": [
    {
     "datasetId": 3427448,
     "sourceId": 5979303,
     "sourceType": "datasetVersion"
    }
   ],
   "dockerImageVersionId": 30515,
   "isGpuEnabled": false,
   "isInternetEnabled": true,
   "language": "r",
   "sourceType": "notebook"
  },
  "kernelspec": {
   "display_name": "R",
   "language": "R",
   "name": "ir"
  },
  "language_info": {
   "codemirror_mode": "r",
   "file_extension": ".r",
   "mimetype": "text/x-r-source",
   "name": "R",
   "pygments_lexer": "r",
   "version": "4.0.5"
  },
  "papermill": {
   "default_parameters": {},
   "duration": 23.578892,
   "end_time": "2023-11-22T20:53:34.722802",
   "environment_variables": {},
   "exception": null,
   "input_path": "__notebook__.ipynb",
   "output_path": "__notebook__.ipynb",
   "parameters": {},
   "start_time": "2023-11-22T20:53:11.143910",
   "version": "2.4.0"
  }
 },
 "nbformat": 4,
 "nbformat_minor": 5
}
